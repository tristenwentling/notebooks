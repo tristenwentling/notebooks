{
 "cells": [
  {
   "cell_type": "markdown",
   "metadata": {},
   "source": [
    "# Some Intermediate Level Extras:<span style=\"color:darkblue\"> A Quick Tour</span>\n",
    "#### <span style=\"color:light gray\">Tristen Wentling</span>\n",
    "\n",
    "In this notebook we're going to cover some additional packages and ideas at a high level with some short examples. I would think of it as a small gallery of packages with examples and links to the documentation for them.  In essence, these are things that some people may not be aware of existing, might provide alternative ways to accomplish a task, or can just in general be helpful to get something done or look really nice!\n",
    "\n",
    "In this notebook there are examples and links for each of the following:\n",
    "* Decorators\n",
    "* For-else statements\n",
    "* Collections\n",
    " - deque\n",
    " - Counter\n",
    " - OrderedDict\n",
    "* Enumerate\n",
    "* Map & Lambda functions\n",
    "* Some plotting tools (mainly for the examples)\n",
    "* Some other stuff that might come in handy"
   ]
  },
  {
   "cell_type": "markdown",
   "metadata": {},
   "source": [
    "## <span style=\"color:green\"> Decorators </span>\n",
    "\n",
    "Decorators are a handy way that we can apply one function as a part of a great number of other functions quickly and easily. I would like to note that there are other uses for decorators, like applying them to classesfor example. You can find a quick tutorial [here](http://book.pythontips.com/en/latest/decorators.html) or more in-depth information [here](http://python-3-patterns-idioms-test.readthedocs.io/en/latest/PythonDecorators.html). There is also a package called [wrapt](https://wrapt.readthedocs.io/en/latest/) to make working with decorators easier, but we leave that for you to explore.\n",
    "\n",
    "Let's start looking at decorators by writing a 2 simple functions, one that just returns the value passed to it, and another that returns twice the value."
   ]
  },
  {
   "cell_type": "code",
   "execution_count": null,
   "metadata": {},
   "outputs": [],
   "source": [
    "def pointless_function_1(x):\n",
    "    return x\n",
    "\n",
    "def pointless_function_2(x):\n",
    "    return 2*x\n",
    "\n",
    "print(pointless_function_1(2))\n",
    "print(pointless_function_2(2))"
   ]
  },
  {
   "cell_type": "markdown",
   "metadata": {},
   "source": [
    "Now suppose we want to actually get the square of the result coming out of each. We could obvously do this by modifying the definition for each one, or we can make a wrapper that can apply more univerally to the functions. We do this by making a wrapper function and *decorating* both the original function definitions. To do this we need to use *\\*arggs* and *\\*\\*kwargs*, which you can read about [here](https://pythontips.com/2013/08/04/args-and-kwargs-in-python-explained/), but basically those just let us freely pass parameters to our function like we normally would."
   ]
  },
  {
   "cell_type": "code",
   "execution_count": null,
   "metadata": {
    "collapsed": true
   },
   "outputs": [],
   "source": [
    "def square_block(a_func):\n",
    "\n",
    "    def wrapper(*args, **kwargs):\n",
    "            return a_func(args[0]) * a_func(args[0])\n",
    "    return wrapper"
   ]
  },
  {
   "cell_type": "code",
   "execution_count": null,
   "metadata": {
    "collapsed": true
   },
   "outputs": [],
   "source": [
    "# There is an alternate way to use the decorator, which we show commented out\n",
    "# but just passes pointless_function_1 (or 2) as an argument to the square_block function\n",
    "# The second method that we actually use is clearer for others to understand more quickly\n",
    "\n",
    "# pointless_function_1 = square_block(pointless_function_1)\n",
    "# pointless_function_2 = square_block(pointless_function_2)\n",
    "\n",
    "@square_block\n",
    "def pointless_function_1(x):\n",
    "    return x\n",
    "\n",
    "@square_block\n",
    "def pointless_function_2(x):\n",
    "    return 2*x\n",
    "\n"
   ]
  },
  {
   "cell_type": "code",
   "execution_count": null,
   "metadata": {},
   "outputs": [],
   "source": [
    "print(pointless_function_1(2))\n",
    "print(pointless_function_2(2))"
   ]
  },
  {
   "cell_type": "markdown",
   "metadata": {},
   "source": [
    "## <span style=\"color:green\"> For-else statements</span>\n",
    "\n",
    "We're already familiar with for loops, and also with if-else statements, but many people often forget that there is actually an *else* component to the for loop in Python.  It functions as though the entire loop were an if statement, letting you define an else clause if every pass is false instead of doing something for each step in the loop. We'll provide a quick example to demonstrate. You can find more [here](http://book.pythontips.com/en/latest/for_-_else.html) and [here](https://docs.python.org/3/tutorial/controlflow.html)."
   ]
  },
  {
   "cell_type": "code",
   "execution_count": null,
   "metadata": {},
   "outputs": [],
   "source": [
    "from string import punctuation\n",
    "\n",
    "for i in punctuation:\n",
    "    if i.isalnum():\n",
    "        print(i)\n",
    "else: print(punctuation)"
   ]
  },
  {
   "cell_type": "markdown",
   "metadata": {
    "collapsed": true
   },
   "source": [
    "One other quick point, if you just wanted to check if a list has something in it before doing something, an empty list will return False so you can just write something like below."
   ]
  },
  {
   "cell_type": "code",
   "execution_count": null,
   "metadata": {},
   "outputs": [],
   "source": [
    "my_list = []\n",
    "if my_list:\n",
    "    print(\"It mast have been true.\")\n",
    "else:\n",
    "    print(\"nope\")"
   ]
  },
  {
   "cell_type": "markdown",
   "metadata": {},
   "source": [
    "## <span style=\"color:green\"> Collections </span> \n",
    "\n",
    "The collections module has a variety of useful tools which I highly encourage you to look at in more detail at some point, you can do that [here](https://pymotw.com/2/collections/index.html) or [here](https://docs.python.org/3/library/collections.html?highlight=collections#module-collections). Some of the ones that can often be helpful include *deque*, which is a double ended queue, Counter, which counts things, and OrderedDict, which is like a usual dictionary except it remembers the order elements were added and can be reversed just like with a list. A quick example for each one follows."
   ]
  },
  {
   "cell_type": "markdown",
   "metadata": {},
   "source": [
    "#### Deque"
   ]
  },
  {
   "cell_type": "code",
   "execution_count": null,
   "metadata": {},
   "outputs": [],
   "source": [
    "from collections import deque\n",
    "\n",
    "c_list = [1, 2, 3, 4, 5]\n",
    "b_list = [6, 7, 8, 9, 0]\n",
    "\n",
    "a_list = deque(c_list)\n",
    "\n",
    "for i in b_list:\n",
    "    print(a_list.popleft())\n",
    "    a_list.append(i)\n",
    "print(a_list)\n",
    "\n",
    "for i in c_list:\n",
    "    print(a_list.pop())\n",
    "    a_list.appendleft(i)\n",
    "print(a_list)"
   ]
  },
  {
   "cell_type": "code",
   "execution_count": null,
   "metadata": {},
   "outputs": [],
   "source": [
    "for i in b_list:\n",
    "    print(a_list.popleft())\n",
    "    a_list.append(i)\n",
    "print(a_list)"
   ]
  },
  {
   "cell_type": "code",
   "execution_count": null,
   "metadata": {},
   "outputs": [],
   "source": [
    "for i in c_list:\n",
    "    print(a_list.pop())\n",
    "    a_list.appendleft(i)\n",
    "print(a_list)"
   ]
  },
  {
   "cell_type": "markdown",
   "metadata": {},
   "source": [
    "#### Counter"
   ]
  },
  {
   "cell_type": "code",
   "execution_count": null,
   "metadata": {},
   "outputs": [],
   "source": [
    "from collections import Counter\n",
    "\n",
    "my_list = [1, 2, 3, 4, 1, 2, 1, 2, 1, 2, 4, 4, 4, 4, 4, 5, 2, 3, 6, 4, 2, 1, 1]\n",
    "\n",
    "Counter(my_list)"
   ]
  },
  {
   "cell_type": "markdown",
   "metadata": {},
   "source": [
    "#### OrderedDict\n",
    "(side note, there is also a combination called OrderedCounter which can be useful)"
   ]
  },
  {
   "cell_type": "code",
   "execution_count": null,
   "metadata": {},
   "outputs": [],
   "source": [
    "from collections import OrderedDict\n",
    "\n",
    "toy_box = ['red', 'orange', 'yellow', 'green', 'blue', \"it's a rainbow\"]\n",
    "cool_dict = OrderedDict(enumerate(toy_box))\n",
    "for i in cool_dict:\n",
    "    print(cool_dict[i])"
   ]
  },
  {
   "cell_type": "markdown",
   "metadata": {},
   "source": [
    "## <span style=\"color:green\"> Enumerate</span>\n",
    "\n",
    "We just used the enumerate function, which is a built in function in Python and can be really helpful sometimes. It mostly just provides integer, value pairs for the values in an iterable object like a list; see more [here](http://python-reference.readthedocs.io/en/latest/docs/functions/enumerate.html) and [here](https://docs.python.org/3/library/functions.html#enumerate). We'll show first how to use enumerate to make a dictionary easily from a list, and then how you would do the same thing using zip."
   ]
  },
  {
   "cell_type": "code",
   "execution_count": null,
   "metadata": {},
   "outputs": [],
   "source": [
    "from string import ascii_lowercase as alphabet\n",
    "\n",
    "alpha_list = list(alphabet)\n",
    "\n",
    "dict_1 = dict(enumerate(alphabet))\n",
    "dict_2 = dict(zip(range(len(alphabet)), alphabet))\n",
    "\n",
    "dict_1 == dict_2"
   ]
  },
  {
   "cell_type": "code",
   "execution_count": null,
   "metadata": {
    "collapsed": true
   },
   "outputs": [],
   "source": [
    "# This cell is for experimenting with the parts above\n",
    "\n"
   ]
  },
  {
   "cell_type": "code",
   "execution_count": null,
   "metadata": {},
   "outputs": [],
   "source": [
    "my_list = ['a', 'b', 'c', 'd', 'e']\n",
    "print([i for i in enumerate(my_list)])"
   ]
  },
  {
   "cell_type": "markdown",
   "metadata": {},
   "source": [
    "## <span style=\"color:green\"> Map & Lambda functions</span>\n",
    "\n",
    "The *map* function is really good at making less work for you, it can let you apply a function to a whole list, or array, or a number of other things easily.  You just pass it a function and an object. More info can be found [here](https://stackoverflow.com/questions/1303347/getting-a-map-to-return-a-list-in-python-3-x) and [here](https://docs.python.org/3/library/functions.html#map).\n",
    "\n",
    "Lambda functions are helpful for writing very short functions and you will often find them paired with the map function for slick one-line transformations, more [here](https://docs.python.org/3/tutorial/controlflow.html#lambda-expressions)."
   ]
  },
  {
   "cell_type": "code",
   "execution_count": null,
   "metadata": {},
   "outputs": [],
   "source": [
    "a_list = [1, 2, 3, 4, 5]\n",
    "new_list = [i for i in map(lambda x: x**2, a_list)]\n",
    "print(new_list)"
   ]
  },
  {
   "cell_type": "markdown",
   "metadata": {},
   "source": [
    "## <span style=\"color:green\"> Plotting tools</span>\n",
    "\n",
    "We've looked at matplotlib before, here are just couple of examples using [Seaborn](https://seaborn.pydata.org/) and [Bokeh](http://bokeh.pydata.org/en/latest/). Both are neat tools but can have a little bit of a learning curve, especially Bokeh with it's advanced functionality."
   ]
  },
  {
   "cell_type": "code",
   "execution_count": null,
   "metadata": {},
   "outputs": [],
   "source": [
    "import numpy as np\n",
    "import seaborn as sns\n",
    "from matplotlib import pyplot as plt\n",
    "\n",
    "arr1 = np.random.logistic(1, 0.1, 50)\n",
    "arr2 = np.random.logistic(1, 0.1, 50)\n",
    "cmap = sns.cubehelix_palette(n_colors=20, start=0, light=1, as_cmap=True)\n",
    "sns.kdeplot(arr1, arr2, cmap=cmap, shade=True);\n",
    "plt.figure(num=None, figsize=(15, 15), dpi=80, facecolor='w', edgecolor='k')\n",
    "plt.show(10,10)"
   ]
  },
  {
   "cell_type": "code",
   "execution_count": null,
   "metadata": {},
   "outputs": [],
   "source": [
    "from bokeh.layouts import gridplot\n",
    "from bokeh.plotting import figure, output_notebook, show\n",
    "\n",
    "output_notebook()"
   ]
  },
  {
   "cell_type": "code",
   "execution_count": null,
   "metadata": {},
   "outputs": [],
   "source": [
    "\n",
    "arrA = np.random.logistic(1, 0.1, 5000)\n",
    "arrB = np.random.logistic(1, 0.1, 5000)\n",
    "x, y = arrA * 50, arrB * 50\n",
    "\n",
    "radii = np.random.random(size=5000) * 1.5\n",
    "colors = [\"#%02x%02x%02x\" % (int(r), int(g), 150) for r, g in zip(50+2*x, 30+2*y)]\n",
    "TOOLS=\"resize,crosshair,pan,wheel_zoom,box_zoom,reset,box_select,lasso_select\"\n",
    "\n",
    "\n",
    "p = figure(tools=TOOLS, x_range=(0,100), y_range=(0,100))\n",
    "p.circle(x, y, radius=radii, fill_color=colors, fill_alpha=0.6, line_color=None)\n",
    "show(p)"
   ]
  },
  {
   "cell_type": "markdown",
   "metadata": {},
   "source": [
    "## <span style=\"color:green\"> Some other stuff that might come in handy</span>\n",
    "\n",
    "Here are some other cool things to look into that you might find helpful down the road.\n",
    "* [Copy]()\n",
    " - Particularly copy and deep copy, for when you're having trouble with getting things to persist.\n",
    "* [Itertools](https://docs.python.org/3/library/itertools.html?highlight=loop)\n",
    " - Some differetn kinds of iterators, also lets you do combinations and permutations.\n",
    "* [Memory mapping](https://docs.python.org/3/library/mmap.html?highlight=map#module-mmap)\n",
    " - A way to work with files that are too large to fit in memory.\n"
   ]
  }
 ],
 "metadata": {
  "kernelspec": {
   "display_name": "Python 3",
   "language": "python",
   "name": "python3"
  },
  "language_info": {
   "codemirror_mode": {
    "name": "ipython",
    "version": 3
   },
   "file_extension": ".py",
   "mimetype": "text/x-python",
   "name": "python",
   "nbconvert_exporter": "python",
   "pygments_lexer": "ipython3",
   "version": "3.5.2"
  }
 },
 "nbformat": 4,
 "nbformat_minor": 2
}
