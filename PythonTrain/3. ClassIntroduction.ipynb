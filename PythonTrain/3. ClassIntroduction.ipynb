{
 "cells": [
  {
   "cell_type": "markdown",
   "metadata": {},
   "source": [
    "# Python Training:\n",
    "## <span style=\"color:darkblue\">A Brief Introduction to Classes and Object Oriented Programming in Python</span>\n",
    "#### <span style=\"color:light gray\">Tristen Wentling</span>\n",
    "\n",
    "This notebook will serve as an introduction and reference to the use of classes in Python. For further and more detailed information refer to [Learn Python the Hard Way](https://learnpythonthehardway.org/book/ex41.html), [Think Python 2e](http://greenteapress.com/thinkpython2/html/thinkpython2016.html) (full pdf available), [the official documentation](https://docs.python.org/3/tutorial/classes.html), or [Tutorialspoint](https://www.tutorialspoint.com/python/python_classes_objects.htm).\n",
    "\n",
    "Topics included are:\n",
    "* Object Oriented Programming (basic)\n",
    "* Some Benefits of Classes\n",
    "* Classes vs. Instances\n",
    "* Class Components\n",
    "    - Constructor/Initializer\n",
    "    - Attributes\n",
    "    - Methods\n",
    "    - Public, Protected, Private\n",
    "* Using a Class\n",
    "        "
   ]
  },
  {
   "cell_type": "markdown",
   "metadata": {},
   "source": [
    "## <span style=\"color:darkblue\">Object Oriented Programming (basic)</span>\n",
    "\n",
    "In Python, and several other programming languages, everything is really an **object**, even if we don't usually call them that. There is even a basic, generic object that other objects are based off of. This means we can pass anything, even functions, as objects.  This is the key idea in object oriented programming (OOP), the ability to pass objects to other objects. \n",
    "\n",
    "\n",
    "\n",
    "\n",
    "\n"
   ]
  },
  {
   "cell_type": "code",
   "execution_count": 1,
   "metadata": {},
   "outputs": [
    {
     "name": "stdout",
     "output_type": "stream",
     "text": [
      "Help on class object in module builtins:\n",
      "\n",
      "class object\n",
      " |  The most base type\n",
      "\n"
     ]
    }
   ],
   "source": [
    "help('object')\n"
   ]
  },
  {
   "cell_type": "code",
   "execution_count": 6,
   "metadata": {},
   "outputs": [
    {
     "data": {
      "text/plain": [
       "'capitalize, casefold, center, count, encode, endswith, expandtabs, find, format, format_map, index, isalnum, isalpha, isdecimal, isdigit, isidentifier, islower, isnumeric, isprintable, isspace, istitle, isupper, join, ljust, lower, lstrip, maketrans, partition, replace, rfind, rindex, rjust, rpartition, rsplit, rstrip, split, splitlines, startswith, strip, swapcase, title, translate, upper, zfill, '"
      ]
     },
     "execution_count": 6,
     "metadata": {},
     "output_type": "execute_result"
    }
   ],
   "source": [
    "dir(str);   # This will list the features of an object (methods and attributes)\n",
    "\"\".join(i + ', ' for i in dir(str) if i[0].isalpha())  # Better list of the features you can use"
   ]
  },
  {
   "cell_type": "code",
   "execution_count": null,
   "metadata": {},
   "outputs": [],
   "source": [
    "\"\"\"\n",
    "  We saw this before when we learned about functions.\n",
    "    We wanted to know where methods live and how you can know \n",
    "      whether something is available as either a function or method.\n",
    "\"\"\"\n",
    "\n",
    "'This is my string'.upper()"
   ]
  },
  {
   "cell_type": "code",
   "execution_count": 7,
   "metadata": {},
   "outputs": [
    {
     "data": {
      "text/plain": [
       "str"
      ]
     },
     "execution_count": 7,
     "metadata": {},
     "output_type": "execute_result"
    }
   ],
   "source": [
    "type('This is my string')"
   ]
  },
  {
   "cell_type": "markdown",
   "metadata": {},
   "source": [
    "## <span style=\"color:darkblue\">Some Benefits of Classes</span>\n",
    "\n",
    "One of the biggest benefits of using classes is the ability to make a \"container\" that makes code more portable, like when we used functions that we can resuse. Classes give us a way to pack together certain objects and the functions we want to use with them. This is especially useful/beneficial if you have something that you will use a lot with few changes. For example, you can use a class to generate data records with functions made to populate the various fields. We'll do this in an example below."
   ]
  },
  {
   "cell_type": "markdown",
   "metadata": {},
   "source": [
    "## <span style=\"color:darkblue\">Classes vs. Instances</span>\n",
    "\n",
    "As we mentioned before, everything is an object. Among these objects, there are two big categories: **classes** and **instances**. \n",
    "\n",
    "You can think of a class as being the definition of an object, and an instance as an object using the class definition. The built-in `list` in Python is a class, we will look at some of it's components to see how natural working with classes really is.  \n",
    "\n",
    "When you look at the documentation for lists, it will tell you about all of the functions available to it and its fundamental properties. Once you use it though, by declaring something is a list or making a list containing items, you have an instance of a list."
   ]
  },
  {
   "cell_type": "code",
   "execution_count": 8,
   "metadata": {
    "scrolled": true
   },
   "outputs": [
    {
     "data": {
      "text/plain": [
       "['__add__',\n",
       " '__class__',\n",
       " '__contains__',\n",
       " '__delattr__',\n",
       " '__delitem__',\n",
       " '__dir__',\n",
       " '__doc__',\n",
       " '__eq__',\n",
       " '__format__',\n",
       " '__ge__',\n",
       " '__getattribute__',\n",
       " '__getitem__',\n",
       " '__gt__',\n",
       " '__hash__',\n",
       " '__iadd__',\n",
       " '__imul__',\n",
       " '__init__',\n",
       " '__init_subclass__',\n",
       " '__iter__',\n",
       " '__le__',\n",
       " '__len__',\n",
       " '__lt__',\n",
       " '__mul__',\n",
       " '__ne__',\n",
       " '__new__',\n",
       " '__reduce__',\n",
       " '__reduce_ex__',\n",
       " '__repr__',\n",
       " '__reversed__',\n",
       " '__rmul__',\n",
       " '__setattr__',\n",
       " '__setitem__',\n",
       " '__sizeof__',\n",
       " '__str__',\n",
       " '__subclasshook__',\n",
       " 'append',\n",
       " 'clear',\n",
       " 'copy',\n",
       " 'count',\n",
       " 'extend',\n",
       " 'index',\n",
       " 'insert',\n",
       " 'pop',\n",
       " 'remove',\n",
       " 'reverse',\n",
       " 'sort']"
      ]
     },
     "execution_count": 8,
     "metadata": {},
     "output_type": "execute_result"
    }
   ],
   "source": [
    "my_list = [1, 2, 3, 4, 5]\n",
    "dir(list)"
   ]
  },
  {
   "cell_type": "markdown",
   "metadata": {},
   "source": [
    "## <span style=\"color:darkblue\">Class Components</span>\n",
    "There are a few components and properties of classes that you should become familiar with.\n",
    "* **<span style=\"color:green\">Constructor/Initializer</span>**\n",
    "* **<span style=\"color:green\">Attributes</span>**\n",
    "* **<span style=\"color:green\">Methods</span>**\n",
    "* **<span style=\"color:green\">Public, Protected, Private</span>**\n",
    "* **<span style=\"color:green\">Inheritance</span>**\n",
    "\n",
    "We will look at each of these separately by considering a new class we'll make here, in Python some things are standard by convention.\n",
    "\n",
    "(Everywhere you see `self` this is a reference to the object we are creating.)"
   ]
  },
  {
   "cell_type": "code",
   "execution_count": 9,
   "metadata": {},
   "outputs": [],
   "source": [
    "class People(object):  # The name of a class is normally capitalized\n",
    "    \"\"\"A class to make people records with name, age and state of residence\"\"\"\n",
    "    #  The docstrings in the class are made available to the help function\n",
    "    #  when you import your class.\n",
    "    \n",
    "    def __init__(self, name_in='Unknown', age_in=0, res_in='Florida'):\n",
    "        \"\"\"This function runs when you call the class to create an instance\"\"\"\n",
    "        self._data = dict()  # These are the attributes we want our class to start out with\n",
    "        self.name = name_in  # Notice how we use \"self\" to point the object to itself\n",
    "        self._age = age_in\n",
    "        self.__state = res_in\n",
    "        self._fill_data(name_in, age_in, res_in)\n",
    "\n",
    "    def _fill_data(self, name, age, res):  # This is a method\n",
    "        \"\"\"Populates the dictionary\"\"\"\n",
    "        self._data['State'] = res\n",
    "        self._data['Name'] = name\n",
    "        self._data['Age'] = age\n",
    "\n",
    "    def get_data(self):  # This is also a method\n",
    "        \"\"\"Returns a dict containing the record\"\"\"\n",
    "        return self._data\n"
   ]
  },
  {
   "cell_type": "code",
   "execution_count": null,
   "metadata": {},
   "outputs": [],
   "source": [
    "#  Just for checking out the doc strings ( remember: Shift + Tab )\n",
    "People()  # Check out the docstring for the class\n",
    "People.get_data()  # For this method too"
   ]
  },
  {
   "cell_type": "markdown",
   "metadata": {},
   "source": [
    "### <span style=\"color:green\">Constructor/Initializer</span>\n",
    "\n",
    "This \\_\\_init\\_\\_ method acts during the creation of an instance of a class and is called the initializer.\n",
    "```\n",
    "def __init__(self, name_in='Unknown', age_in=0, res_in='Florida'):\n",
    "        \"\"\"Initializer for our people class\"\"\"\n",
    "        self._data = dict()\n",
    "        self._fill_data(self, name_in, age_in, res_in)\n",
    "```\n",
    "</pre>\n",
    "This will usually be a part of a class definition. Notice that we included default values. Doing this allows us to be more certain of what the result will look like and to avoid unexpected problems when referencing it.\n"
   ]
  },
  {
   "cell_type": "markdown",
   "metadata": {},
   "source": [
    "### <span style=\"color:green\">Attributes</span>\n",
    "\n",
    "Attributes are any \"variable\" belonging to the class.\n",
    "So in the initializer for our class above we have\n",
    "\n",
    "``` \n",
    "        self._data = dict()\n",
    "        self.name = name_in\n",
    "        self._age = age_in\n",
    "        self.__state = res_in\n",
    "```\n",
    "\n",
    "which are the only attributes of this class. These are basically what you want stored for each instance.\n"
   ]
  },
  {
   "cell_type": "markdown",
   "metadata": {},
   "source": [
    "### <span style=\"color:green\">Methods</span>\n",
    "\n",
    "Our People class has two methods: `_fill_data()` and  `get_data()`.\n",
    "\n",
    "Methods are just the functions you define that become part of the class definition. "
   ]
  },
  {
   "cell_type": "markdown",
   "metadata": {},
   "source": [
    "### <span style=\"color:green\">Public, Protected, Private</span>\n",
    "\n",
    "Notice earlier in our attributes and methods for that class that some of them started with either a single or double underscore (\"_\" or \"__\"). These have special meaning in classes, they basically mean hands-off. <em>You should never call these methods from an instance, they are meant to be left alone.</em>\n",
    "\n",
    "In the attribute ```  self._age  ``` and the method ```  _fill_data()  ```\n",
    "we have a single underscore in front of them. That means these are what we call **protected**. You should only use these inside the class definition or in a new class definition that extends the current one.\n",
    "\n",
    "In the attribute ```  self.__state  ``` we have a double undescore that means **private**. You should never mess with these outside of defining a class.\n",
    "\n",
    "All other methods are considered **public** and are meant to be accessible outside of class definitions.\n",
    "\n",
    "Note for those familiar with C++ or Java based OOP: Protected and Private are not strictly enforced in Python. They can be (wrongly) accessed and should not be considered secure."
   ]
  },
  {
   "cell_type": "markdown",
   "metadata": {},
   "source": [
    "### <span style=\"color:green\">Inheritance</span>\n",
    "\n",
    "**Inheritance** is really a simple idea that proves to be difficult to conquer on occasion. In the next block we are going to create a class extension from our definition of the People class.  As an extension, it <em>inherits</em> attributes and methods defined for its parent class. This is where you might still call protected methods, but not private ones. This process is what begins to make OOP flexible and beneficial. "
   ]
  },
  {
   "cell_type": "code",
   "execution_count": 10,
   "metadata": {
    "collapsed": true
   },
   "outputs": [],
   "source": [
    "class Boss(People):\n",
    "    \"\"\"Extended class inheriting the people class\"\"\"\n",
    "\n",
    "    def add_title(self, title):\n",
    "        self._title = title\n",
    "        self._data['Title'] = self._title\n"
   ]
  },
  {
   "cell_type": "markdown",
   "metadata": {},
   "source": [
    "## <span style=\"color:darkblue\">Using a Class</span>\n",
    "\n",
    "There are two ways that we will usually use a class, directly by creating an instance, or by inheritance like we saw above when we made the `Boss` class.\n",
    "So now we can see an example of how we can use the two classes we already defined."
   ]
  },
  {
   "cell_type": "markdown",
   "metadata": {
    "collapsed": true
   },
   "source": [
    "First we'll create two instances of the People class, and print an example of its data."
   ]
  },
  {
   "cell_type": "code",
   "execution_count": 11,
   "metadata": {},
   "outputs": [
    {
     "name": "stdout",
     "output_type": "stream",
     "text": [
      "{'State': 'Florida', 'Name': 'Worker A', 'Age': 34}\n"
     ]
    }
   ],
   "source": [
    "alpha = People('Worker A', 34, 'Florida')\n",
    "beta = People('Worker B', 26, 'Schaumburg')\n",
    "print(alpha.get_data())\n"
   ]
  },
  {
   "cell_type": "markdown",
   "metadata": {},
   "source": [
    "Now let's make an instance of the Boss class and see its output."
   ]
  },
  {
   "cell_type": "code",
   "execution_count": 12,
   "metadata": {},
   "outputs": [
    {
     "name": "stdout",
     "output_type": "stream",
     "text": [
      "{'State': 'Florida', 'Name': 'Boss A', 'Age': '?'}\n"
     ]
    }
   ],
   "source": [
    "gamma = Boss('Boss A', '?', 'Florida')\n",
    "print(gamma.get_data())"
   ]
  },
  {
   "cell_type": "markdown",
   "metadata": {},
   "source": [
    "It's exactly the same kind of output! We never used our extra method we defined for the boss class. Let's use it now to add a title and then look at the output again."
   ]
  },
  {
   "cell_type": "code",
   "execution_count": 13,
   "metadata": {},
   "outputs": [
    {
     "name": "stdout",
     "output_type": "stream",
     "text": [
      "{'State': 'Florida', 'Name': 'Boss A', 'Age': '?', 'Title': 'Supreme Overlord'}\n"
     ]
    }
   ],
   "source": [
    "gamma.add_title('Supreme Overlord')\n",
    "print(gamma.get_data())"
   ]
  },
  {
   "cell_type": "markdown",
   "metadata": {},
   "source": [
    "Great! So we now have some instances of our classes and we can put them together and use them for something."
   ]
  },
  {
   "cell_type": "code",
   "execution_count": 14,
   "metadata": {},
   "outputs": [
    {
     "name": "stdout",
     "output_type": "stream",
     "text": [
      "The members of our team are Worker A, Worker B, and Supreme Overlord Boss A.\n"
     ]
    }
   ],
   "source": [
    "group = [alpha, beta, gamma]\n",
    "team_data = [i.get_data() for i in group]\n",
    "team_data\n",
    "print('The members of our team are {0}, {1}, and {2}.'.format(team_data[0]['Name'],\n",
    "                                                              team_data[1]['Name'],\n",
    "                                                              team_data[2]['Title'] + \" \" + team_data[2]['Name']\n",
    "                                                              ))"
   ]
  },
  {
   "cell_type": "markdown",
   "metadata": {},
   "source": [
    "So in this example we defined a class, defined another class using inheritance, created instances of each, and used them to create a unique output. There are plenty more things you can discover about classes on your own now, but this should give a good general guideline for working with classes in Python."
   ]
  }
 ],
 "metadata": {
  "kernelspec": {
   "display_name": "Python 3",
   "language": "python",
   "name": "python3"
  },
  "language_info": {
   "codemirror_mode": {
    "name": "ipython",
    "version": 3
   },
   "file_extension": ".py",
   "mimetype": "text/x-python",
   "name": "python",
   "nbconvert_exporter": "python",
   "pygments_lexer": "ipython3",
   "version": "3.5.2"
  }
 },
 "nbformat": 4,
 "nbformat_minor": 2
}
