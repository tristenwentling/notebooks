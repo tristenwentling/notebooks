{
 "cells": [
  {
   "cell_type": "markdown",
   "metadata": {},
   "source": [
    "# Python Training:\n",
    "## <span style=\"color:darkblue\">A Short Guide to Using Classes in Python</span>\n",
    "#### <span style=\"color:light gray\">Tristen Wentling</span>\n",
    "\n",
    "This notebook is intended to serve as a basic guide to making and using classes in Python and follows the notebook *A Brief Introduction to Classes and Object Oriented Programming in Python*. For further and more detailed information refer to [Learn Python the Hard Way](https://learnpythonthehardway.org/book/ex41.html), [Think Python 2e](http://greenteapress.com/thinkpython2/html/thinkpython2016.html) (full pdf available), [the official documentation](https://docs.python.org/3/tutorial/classes.html), or [Tutorialspoint](https://www.tutorialspoint.com/python/python_classes_objects.htm).\n",
    "\n",
    "Topics included are:\n",
    "* Building a Class-Oriented Model\n",
    "* Developing Classes\n",
    "* Using Classes\n",
    "\n",
    "There are also some exercises and extras at the end.\n",
    "        "
   ]
  },
  {
   "cell_type": "markdown",
   "metadata": {},
   "source": [
    "# Building a Class-Oriented Model\n",
    "\n",
    "## <span style=\"color:green\">Plan from the Top</span>\n",
    "If we want to use a class to accomplish a goal the first thing we'll need to do is construct a model that will make use of the features of classes.\n",
    "\n",
    "To do this we are going to set out to create a grocery store class.  We'll need to figure out what components we need to build a grocery store. This will give us an idea of what classes we will need to build and let us see where we might be able to save ourselves some work at the same time. For a structured approach to this process see the extra section <a href='#CRC'>below</a>\n",
    "\n",
    "In this case we want to make one grocery store class and it will have three major components: Products, Employees, and Facilities.  For each store we can probably store the information about the facilities as attributes of the grocery store class.  For products and employees, however, we will probably want those to be made up of smaller classes.\n",
    "\n",
    "| |**<center>  Grocery Store </center> **| |\n",
    "|---------------|------------------------------|---------------------|\n",
    "|  Products  |   <center> Employees </center> |   Facilities  |"
   ]
  },
  {
   "cell_type": "markdown",
   "metadata": {},
   "source": [
    "For this example we will construct a grocery store class and the Products classes.  We are leaving the employees classes as a creative exercise in using classes that will build off everything else we've done so we'll just construct a skeleton of a class for that and recommend some different ways to approach constructing the class in more detail. We will discuss facilities in more detail as well, but as we'll see it won't need a separate class.\n",
    "\n",
    "## <span style=\"color:green\">Build from the Bottom</span>\n",
    "\n",
    "Let's focus on our plan for the products class.  Here we can categorize everything in a convenient way for us to work with, so let's say we want to break it up into 3 departments: produce, dairy, and dry goods.  Now the items in each of these categories will all share some features, like there will be a price and quantity for each of them, but they will also have their own individual characteristics, like in produce we might want to figure in a way to get the price from the weight and specify whether the price of an item is affected by weight or if it is sold by the bundle or package, so we will have to have some different details in order to implement those things."
   ]
  },
  {
   "cell_type": "markdown",
   "metadata": {},
   "source": [
    "\n",
    "\n",
    "**<center>Grocery Store</center>**\n",
    "\n",
    "|         |**Products**|          |   |         |   **Employees**   |         |   |         |**Facilities** |         |\n",
    "|:-------:|:----------:|:--------:|---|:-------:|:-----------------:|:-------:|---|:-------:|:-------------:|:-------:|\n",
    "|Produce  |Dairy       |Dry Goods |   | ??????? |      ???????      | ??????? |   | ??????? |    ???????    | ??????? |                  "
   ]
  },
  {
   "cell_type": "markdown",
   "metadata": {
    "collapsed": true
   },
   "source": [
    "So what this tells us is that we probably want to start with a basic product class which we can then extend to the more specific kinds. This will allow us some flexibility, but will also keep us from having to rewrite the same methods several times.\n",
    "\n",
    "# Developing Classes\n",
    "\n",
    "## <span style=\"color:green\">A Helpful Backbone</span>\n",
    "So what do we need in the basic product class?  We want to have all of the things that are going to be common to every item in the store, so we should probably have an item number, a unit price, the number of units, and a way to change each of those. So our basic Product class should have an initialization method which sets 3 attributes, and 3 additional methods. We'll also initialize each instance with default values of zero so if someone, for instance, wanted to add many new items before updating the price and quantity of each."
   ]
  },
  {
   "cell_type": "code",
   "execution_count": 1,
   "metadata": {
    "collapsed": true
   },
   "outputs": [],
   "source": [
    "# Original definition of Product()\n",
    "class Product(object):\n",
    "    \"\"\"a basic store product\"\"\"\n",
    "    \n",
    "    def __init__(self):\n",
    "        self.item_number = 0\n",
    "        self.item_price = 0\n",
    "        self.item_qty = 0\n",
    "\n",
    "    def set_item_num(self, num=0):\n",
    "        \"\"\"Set the item number\"\"\"\n",
    "        self.item_number = num\n",
    "\n",
    "    def set_price(self, price=0):\n",
    "        \"\"\"Set the item price\"\"\"\n",
    "        self.item_price = price\n",
    "\n",
    "    def set_qty(self, qty=0):\n",
    "        \"\"\"Set the item quantity\"\"\"\n",
    "        self.item_qty = qty\n"
   ]
  },
  {
   "cell_type": "markdown",
   "metadata": {},
   "source": [
    "So we have a basic class definition now, but we also want a good way to get data without having to know the specific name of each attribute every time. We can add another method that will take care of this by passing us back a dictionary with the values. While we're making things easier, let's add a method that uses the first three and updates the info all at once."
   ]
  },
  {
   "cell_type": "code",
   "execution_count": 2,
   "metadata": {
    "collapsed": true
   },
   "outputs": [],
   "source": [
    "# Improved definition of Product()\n",
    "class Product(object):\n",
    "    \"\"\"a basic store product\"\"\"\n",
    "    \n",
    "    def __init__(self):\n",
    "        self.item_name = \"\"\n",
    "        self.item_number = 0\n",
    "        self.item_price = 0\n",
    "        self.item_qty = 0\n",
    "    \n",
    "    def set_item_name(self, name=\"\"):\n",
    "        self.item_name = name\n",
    "\n",
    "    def set_item_num(self, num=0):\n",
    "        \"\"\"Set the item number\"\"\"\n",
    "        self.item_number = num\n",
    "\n",
    "    def set_price(self, price=0):\n",
    "        \"\"\"Set the item price\"\"\"\n",
    "        self.item_price = price\n",
    "\n",
    "    def set_qty(self, qty=0):\n",
    "        \"\"\"Set the item quantity\"\"\"\n",
    "        self.item_qty = qty\n",
    "\n",
    "    def set_basics(self,name=\"\", num=0, price=0, qty=0):\n",
    "        \"\"\"set item_name, item_number, item_price, and item_qty\"\"\"\n",
    "        self.set_item_name(name)\n",
    "        self.set_item_num(num)\n",
    "        self.set_price(price)\n",
    "        self.set_qty(qty)\n",
    "\n",
    "    def get_info(self):\n",
    "        return dict(zip(['item_number', 'item_name', 'item_price', 'item_qty'],\n",
    "                    [self.item_number, self.item_name, self.item_price, self.item_qty]))"
   ]
  },
  {
   "cell_type": "markdown",
   "metadata": {},
   "source": [
    "Now let's make sure it works. We'll find the total amount we should make from a Product alpha with a price of $1.99 if we have 17 in stock as well as test that our methods work."
   ]
  },
  {
   "cell_type": "code",
   "execution_count": 3,
   "metadata": {},
   "outputs": [
    {
     "data": {
      "text/plain": [
       "33.83"
      ]
     },
     "execution_count": 3,
     "metadata": {},
     "output_type": "execute_result"
    }
   ],
   "source": [
    "#  Example test for our basic Product class\n",
    "alpha = Product()\n",
    "alpha.set_basics('rice', 99, 1.99, 17)\n",
    "alpha.item_price*alpha.item_qty"
   ]
  },
  {
   "cell_type": "markdown",
   "metadata": {},
   "source": [
    "## <span style=\"color:green\">Expanding Our Options</span>\n",
    "\n",
    "Well it looks like everything works okay, now we'll build three more classes based on our Product class.  When we do this, we'll add one new feature that we haven't talked about before, you'll see we call a function **super(ClassName, self).\\_\\_init\\_\\_()**. There will be some more information on this in the extras, but what it is doing is calling the initializer method of the parent class we inherit from.\n",
    "\n",
    "For the Dairy class, we can add a maximum storage temperature to check if it should be in the refrigerated or frozen sections, and a local/nonlocal status for its source. So we will inherit from the Product class and then add two more attributes and methods to set them."
   ]
  },
  {
   "cell_type": "code",
   "execution_count": 4,
   "metadata": {
    "collapsed": true
   },
   "outputs": [],
   "source": [
    "class Dairy(Product):\n",
    "    \"\"\"A dairy product\"\"\"\n",
    "    \n",
    "    def __init__(self):\n",
    "        self.max_temp = 45\n",
    "        self.sourcing = \"nonlocal\"\n",
    "        super(Dairy, self).__init__()\n",
    "    \n",
    "    def set_max_temp(self, new_temp=45):\n",
    "        \"\"\"set maximum storage temp in deg F\"\"\"\n",
    "        self.max_temp = new_temp\n",
    "\n",
    "    def set_locality(self, stat='local'):\n",
    "        \"\"\"set sourcing to local or nonlocal\"\"\"\n",
    "        if stat in ['local', 'nonlocal']:\n",
    "            self.sourcing = stat"
   ]
  },
  {
   "cell_type": "markdown",
   "metadata": {},
   "source": [
    "For the Dry Goods class we are only going to add a shelf location attribute and method.  With this one, notice that we don't call it **Dry_Goods**, but instead we call it **DryGoods**.  The proper etiquette here is to use camel case instead of underscores to prevent possible confusion (see [here](https://www.python.org/dev/peps/pep-0008/#id37) for more detailed information on naming conventions)."
   ]
  },
  {
   "cell_type": "code",
   "execution_count": 5,
   "metadata": {
    "collapsed": true
   },
   "outputs": [],
   "source": [
    "class DryGoods(Product):\n",
    "    \"\"\"A regular shelf product\"\"\"\n",
    "    \n",
    "    def __init__(self):\n",
    "        self.location = \"nonlocal\"\n",
    "        super(DryGoods, self).__init__()\n",
    "\n",
    "    def set_location(self, aisle_num, shelf_num):\n",
    "        \"\"\"set shelf location (aisle, shelf)\"\"\"\n",
    "        self.location = (aisle_num, shelf_num)"
   ]
  },
  {
   "cell_type": "markdown",
   "metadata": {},
   "source": [
    "For the Produce class we will again do something similar to the Dairy class, except here we want to add attributes and methods to set and store the item weight and days since stocked for each produce product."
   ]
  },
  {
   "cell_type": "code",
   "execution_count": 6,
   "metadata": {
    "collapsed": true
   },
   "outputs": [],
   "source": [
    "class Produce(Product):\n",
    "    \"\"\"A produce product\"\"\"\n",
    "    \n",
    "    def __init__(self):\n",
    "        self.weight = 0\n",
    "        self.days_in_stock = 0\n",
    "        super(Produce, self).__init__()\n",
    "\n",
    "    def set_weight(self, unit_weight=1, unit_type='lbs'):\n",
    "        \"\"\"set item unit weight\"\"\"\n",
    "        self.weight = (unit_weight, unit_type)\n",
    "\n",
    "    def set_days_stocked(self, num=0):\n",
    "        \"\"\"set number of days in stock\"\"\"\n",
    "        self.days_in_stock = num"
   ]
  },
  {
   "cell_type": "markdown",
   "metadata": {
    "collapsed": true
   },
   "source": [
    "Now we'll test a couple of our new classes like we did last time by trying to use the methods and make sure things look like we're expecting them to."
   ]
  },
  {
   "cell_type": "code",
   "execution_count": 7,
   "metadata": {},
   "outputs": [
    {
     "data": {
      "text/plain": [
       "{'item_name': 'beans', 'item_number': 1, 'item_price': 1.99, 'item_qty': 15}"
      ]
     },
     "execution_count": 7,
     "metadata": {},
     "output_type": "execute_result"
    }
   ],
   "source": [
    "green = DryGoods()\n",
    "green.set_basics('beans', 1, 1.99, 15)\n",
    "green.get_info()"
   ]
  },
  {
   "cell_type": "code",
   "execution_count": 8,
   "metadata": {},
   "outputs": [
    {
     "data": {
      "text/plain": [
       "{'item_name': 'milk', 'item_number': 1, 'item_price': 2, 'item_qty': 3}"
      ]
     },
     "execution_count": 8,
     "metadata": {},
     "output_type": "execute_result"
    }
   ],
   "source": [
    "milk = Dairy()\n",
    "milk.set_basics('milk',1,2,3)\n",
    "milk.get_info()"
   ]
  },
  {
   "cell_type": "markdown",
   "metadata": {},
   "source": [
    "So at this point we have enough to be able to build a pretty decent inventory for our grocery store. Next we'll make a basic placeholder for employees since we know the store will need some employees to run.\n",
    "\n",
    "## <span style=\"color:green\">Creating Human Capital</span>\n",
    "\n",
    "As we said, we'll just create a very basic employee class for now.  We'll create them with a name and employee number and add methods to set and get those details."
   ]
  },
  {
   "cell_type": "code",
   "execution_count": 9,
   "metadata": {
    "collapsed": true
   },
   "outputs": [],
   "source": [
    "class Employee(object):\n",
    "    \"\"\"Basic employee class\"\"\"\n",
    "    def __init__(self):\n",
    "        self.name = \"\"\n",
    "        self._employee_number = 0\n",
    "    \n",
    "    def set_details(self, num=0, new_name=\"\"):\n",
    "        \"\"\"Sets employee number and name\"\"\"\n",
    "        self.name, self._employee_number = new_name, num\n",
    "\n",
    "    def get_details(self):\n",
    "        \"\"\"Gets employee number and name\"\"\"\n",
    "        return [self._employee_number, self.name]"
   ]
  },
  {
   "cell_type": "markdown",
   "metadata": {},
   "source": [
    "## <span style=\"color:green\">Getting into the Construction Business</span>\n",
    "\n",
    "Now that we have classes for products and employees, we can actually build a model for our store. To do this we need to think about how we want to finish structuring our store.  We're going to want to store some stuff about facilities, like the address and maybe the building size. We'll also want to keep a record of the store employees and the inventory as well.  So in our attributes, we'll probably want to have a list of employees and inventory, and also store the facilities information.  As far as methods for a grocery store the options are pretty wide so we'll just add methods to get a list of the employees and a list of the entire inventory in the store for now. As en exercise you can try adding a couple more methods for other store operations like creating an inventory count by department, or if you're looking for more of a challenge, creating customer purchases.  "
   ]
  },
  {
   "cell_type": "code",
   "execution_count": 10,
   "metadata": {
    "collapsed": true
   },
   "outputs": [],
   "source": [
    "class GroceryStore(object):\n",
    "    \"\"\"The main grocery store class\"\"\"\n",
    "\n",
    "    def __init__(self):\n",
    "        self._employees = list()\n",
    "        self._inventory = list()\n",
    "        self.store_info = list()\n",
    "\n",
    "    def add_employee(self, num, name):\n",
    "        \"\"\"Add an employee to the store\"\"\"\n",
    "        new_employee = Employee()\n",
    "        new_employee.set_details(num, name)\n",
    "        self._employees.append(new_employee)\n",
    "\n",
    "    def get_employee_names(self):\n",
    "        \"\"\"Print a list of employees' names\"\"\"\n",
    "        for i in self._employees:\n",
    "            print(i.name)\n",
    "\n",
    "    def add_inventory(self, dept, name, num, price, qty):\n",
    "        \"\"\"Adds an inventory item to the grocery store.\n",
    "        Allowable departments are 'dairy', 'produce', or 'dry goods'\"\"\"\n",
    "        if dept == 'dairy':\n",
    "            new_item = Dairy()\n",
    "        elif dept == 'produce':\n",
    "            new_item = Produce()\n",
    "        elif dept == 'dry goods':\n",
    "            new_item = DryGoods()\n",
    "        else:\n",
    "            new_item = Product()\n",
    "        new_item.set_basics(name, num, price, qty)\n",
    "        self._inventory.append(new_item)\n",
    "\n",
    "    def get_inventory(self):\n",
    "        \"\"\"Print a list of the store inventory\"\"\"\n",
    "        for i in self._inventory:\n",
    "            print(i.item_number, \" ,\", i.item_name, \" ,\", i.item_qty)"
   ]
  },
  {
   "cell_type": "markdown",
   "metadata": {},
   "source": [
    "It looks like we have everything we need now to create an instance of a grocery store and add items and employees to it. Don't forget that since we added documentation you can always check to see what we need to pass to add employees or inventory.\n",
    "\n",
    "# Using Classes\n",
    "\n",
    "## <span style=\"color:green\">Because There's Always One Around the Corner</span>\n",
    "Let's test out the whole GroceryStore class by creating a Publix store and adding a couple of employees and inventory items."
   ]
  },
  {
   "cell_type": "code",
   "execution_count": 11,
   "metadata": {
    "collapsed": true
   },
   "outputs": [],
   "source": [
    "#  Create an instance called Publix\n",
    "Publix = GroceryStore()"
   ]
  },
  {
   "cell_type": "code",
   "execution_count": 12,
   "metadata": {
    "collapsed": true
   },
   "outputs": [],
   "source": [
    "#  Use the methods to populate data\n",
    "Publix.add_employee(1, 'Brian')\n",
    "Publix.add_employee(2, 'Drew')\n",
    "Publix.add_inventory('dairy', 'milk', 1, 3.54, 54)\n",
    "Publix.add_inventory('dry goods', 'beans', 2, 2.99, 17)"
   ]
  },
  {
   "cell_type": "code",
   "execution_count": 13,
   "metadata": {},
   "outputs": [
    {
     "name": "stdout",
     "output_type": "stream",
     "text": [
      "Brian\n",
      "Drew\n"
     ]
    }
   ],
   "source": [
    "Publix.get_employee_names()"
   ]
  },
  {
   "cell_type": "code",
   "execution_count": 14,
   "metadata": {},
   "outputs": [
    {
     "name": "stdout",
     "output_type": "stream",
     "text": [
      "1  , milk  , 54\n",
      "2  , beans  , 17\n"
     ]
    }
   ],
   "source": [
    "Publix.get_inventory()"
   ]
  },
  {
   "cell_type": "markdown",
   "metadata": {},
   "source": [
    "It looks like our class is working fine.  Just to see how it would look adding a bunch of items, let's build some fake csv-like data to feed into the class and update the records."
   ]
  },
  {
   "cell_type": "code",
   "execution_count": 15,
   "metadata": {
    "collapsed": true
   },
   "outputs": [],
   "source": [
    "hired_employees = [[3,  'Jessyca'],\n",
    "                   [4,  'Melissa'],\n",
    "                   [5,  'Michelle'],\n",
    "                   [6,  'Beverly'],\n",
    "                   [7,  'Constance'],\n",
    "                   [8,  'Jerry'],\n",
    "                   [9,  'Garry'],\n",
    "                   [10, 'Terry']]\n",
    "\n",
    "shipping_manifest = [['dairy', 'cheese', 3, 1.99, 63],\n",
    "                     ['dairy', 'cream', 4, 3.19, 29],\n",
    "                     ['dairy', 'butter', 5, 5.14, 74],\n",
    "                     ['dry goods', 'cereal', 6, 2.96, 515],\n",
    "                     ['dry goods', 'flour', 7, 1.59, 95],\n",
    "                     ['produce', 'celery', 8, 1.79, 54],\n",
    "                     ['produce', 'carrots', 9, 2.46, 112],\n",
    "                     ['produce', 'mangoes', 10, 1.82, 42]]"
   ]
  },
  {
   "cell_type": "code",
   "execution_count": 16,
   "metadata": {
    "collapsed": true
   },
   "outputs": [],
   "source": [
    "#  Adding data the same way we did before\n",
    "for i in range(len(hired_employees)):\n",
    "    a, b = hired_employees[i][:]\n",
    "    Publix.add_employee(a, b)\n",
    "    c, d, e, f, g = shipping_manifest[i][:]\n",
    "    Publix.add_inventory(c, d, e, f, g)"
   ]
  },
  {
   "cell_type": "code",
   "execution_count": 17,
   "metadata": {},
   "outputs": [
    {
     "name": "stdout",
     "output_type": "stream",
     "text": [
      "Brian\n",
      "Drew\n",
      "Jessyca\n",
      "Melissa\n",
      "Michelle\n",
      "Beverly\n",
      "Constance\n",
      "Jerry\n",
      "Garry\n",
      "Terry\n"
     ]
    }
   ],
   "source": [
    "Publix.get_employee_names()"
   ]
  },
  {
   "cell_type": "code",
   "execution_count": 18,
   "metadata": {},
   "outputs": [
    {
     "name": "stdout",
     "output_type": "stream",
     "text": [
      "1  , milk  , 54\n",
      "2  , beans  , 17\n",
      "3  , cheese  , 63\n",
      "4  , cream  , 29\n",
      "5  , butter  , 74\n",
      "6  , cereal  , 515\n",
      "7  , flour  , 95\n",
      "8  , celery  , 54\n",
      "9  , carrots  , 112\n",
      "10  , mangoes  , 42\n"
     ]
    }
   ],
   "source": [
    "Publix.get_inventory()"
   ]
  },
  {
   "cell_type": "markdown",
   "metadata": {},
   "source": [
    "## <span style=\"color:green\">The Finish Line</span>\n",
    "Congratulations! We have now built a model of a basic grocery store using classes in Python.  Hopefully this has helped to see the process of modelling and then using classes to build something useful in Python.  Consider trying the exercises below that build on the example we have made here to get more of a feel for adding to and working with classes.\n",
    "\n",
    "\n",
    "\n",
    "# Exercises for Personal Enrichment\n",
    "### Difficulty: <span style=\"color:darkgreen\"> Easy </span>\n",
    "* Add more details to the facility information for the store class and add them to our example.\n",
    "\n",
    "\n",
    "* Add one or two more class definitions for other product types in the store.  You might consider meat, bakery, freezer, or cleaning as ideas.\n",
    "\n",
    "### Difficulty: <span style=\"color:darkorange\"> Intermediate </span>\n",
    "\n",
    "* Extend by using inheritance the skeleton we made earlier to create some better employee classes. A couple of ways to do this would be to create classes for wage and salary employees, or managers, cashiers, and stockers as another choice. Some features you can build in might be storing their daily start and end times, salary or hourly wage amount, emergency contact, or anything else you want. You will also have to update the way employees are added in the grocery store class.\n",
    "\n",
    "\n",
    "* Add a method to do an inventory count for the store.  You'll want to find the number of all products grouped by department (dairy, dry goods, and produce, etc.)\n",
    "\n",
    "### Difficulty: <span style=\"color:darkred\"> Hard </span>\n",
    "\n",
    "* Create a new class for the grocery store to enable customer purchases. Don't forget to add a list in the attributes of the GroceryStore class to store the records and a method to update the list. You will also have to adjust the inventory for each item purchased when a record is added.  The class should have a list of the items purchased,  their prices, and calculate a total (with taxes for bonus points). Another extra could store the name of the cashier that rang out the customer, or the customer's name.\n",
    "\n",
    "\n",
    "* In the Product and Employee classes, we created an item number and employee number attribute.  The way it is now you must update this manually for each entry.  As the store grows keeping track of this by hand would be a burden.  Add a way to automatically assign employee numbers and item numbers without conflicts inside a grocery store.\n",
    "\n",
    "\n",
    "* Using inheritance from the more basic level classes we've made here (Product, Employee, and Grocery Store) create a shoe store. Don't forget to think about the different kinds of product classes you might want to create."
   ]
  },
  {
   "cell_type": "markdown",
   "metadata": {},
   "source": [
    "# Extras\n",
    "\n",
    "## <span style=\"color:green\">CRC cards</span>\n",
    "<a id=\"CRC\"></a>\n",
    "\n",
    "One of the best ways to create class-oriented code is to use Class-responsibility-collaboration (CRC) cards (they don't have to be actual cards, but that can make things easier). Before you make CRC cards, write out (using sentences) a sketch of what you want to build.  Try and break it down to \"actors\" and \"actions\". Then the nouns and actors become your classes. Each class will get one card.\n",
    "\n",
    "So where does the responsibility and collaboration part come in?   \n",
    "\n",
    "When we looked at our overview of classes we saw that each had methods and attributes. Each of the needed attributes should get listed on the card as they are a part of what makes a class necessary.  Then the responsibilities of each class are the actions from the story that each actor performed, these will usually become methods but could be attributes as well. The collaborators are the other classes the current one works with to accomplish its actions. So on each CRC card, there should be a class name, its attributes, methods and collaborators.\n",
    "\n",
    "These cards help you to organize your development and can help to reduce your overall workload and make collaboration easier [Wikipedia](https://en.wikipedia.org/wiki/Class-responsibility-collaboration_card)\n",
    "\n",
    "## <span style=\"color:green\">super(SomeClassName, self).\\_\\_init\\_\\_(self)</span> \n",
    "<a id=\"super\"></a>\n",
    "\n",
    "The super function is tied to inheritance. What it does is it gets definitions from a parent class without having to specifically know the name of the parent class.  There is a great explanation of some of the benefits of using it over the similar ParentClassName.\\_\\_init\\_\\_(self) in <a href=http://stackoverflow.com/questions/222877/what-does-super-do-in-python> this </a> stack exchange question."
   ]
  }
 ],
 "metadata": {
  "kernelspec": {
   "display_name": "Python 3",
   "language": "python",
   "name": "python3"
  },
  "language_info": {
   "codemirror_mode": {
    "name": "ipython",
    "version": 3
   },
   "file_extension": ".py",
   "mimetype": "text/x-python",
   "name": "python",
   "nbconvert_exporter": "python",
   "pygments_lexer": "ipython3",
   "version": "3.5.2"
  }
 },
 "nbformat": 4,
 "nbformat_minor": 2
}
