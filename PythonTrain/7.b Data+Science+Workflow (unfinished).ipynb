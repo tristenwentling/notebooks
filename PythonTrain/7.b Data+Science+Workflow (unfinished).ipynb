{
 "cells": [
  {
   "cell_type": "markdown",
   "metadata": {},
   "source": [
    "<div style=\"background-color:lightgray\"> </div>\n",
    "<h3 style=\"color:darkred\"> Tristen Wentling</h3>\n",
    "# <span style=\"color:darkgreen\">The Python Data Science Workflow </span>\n",
    "### <span style=\"color:darkcyan\">A General Guideline to Using Python in Data Science</span>\n",
    "\n",
    "Here we're going to explore the general process usually called the \"Data Science Workflow\" using Python.\n",
    "\n",
    "Here are some additional references that discuss this idea:\n",
    "* [Civis Analytics Blog Post](https://www.civisanalytics.com/blog/workflows-in-python-getting-data-ready-to-build-models/)\n",
    "* [ ]( )\n",
    "* [ ]( )\n",
    "* [ ]( )\n",
    "* [Anaconda Reference](https://docs.continuum.io/anaconda-data-science-workflow)"
   ]
  },
  {
   "cell_type": "code",
   "execution_count": null,
   "metadata": {
    "collapsed": true
   },
   "outputs": [],
   "source": []
  },
  {
   "cell_type": "code",
   "execution_count": null,
   "metadata": {
    "collapsed": true
   },
   "outputs": [],
   "source": []
  }
 ],
 "metadata": {
  "kernelspec": {
   "display_name": "Python 3",
   "language": "python",
   "name": "python3"
  },
  "language_info": {
   "codemirror_mode": {
    "name": "ipython",
    "version": 3
   },
   "file_extension": ".py",
   "mimetype": "text/x-python",
   "name": "python",
   "nbconvert_exporter": "python",
   "pygments_lexer": "ipython3",
   "version": "3.5.2"
  }
 },
 "nbformat": 4,
 "nbformat_minor": 2
}
