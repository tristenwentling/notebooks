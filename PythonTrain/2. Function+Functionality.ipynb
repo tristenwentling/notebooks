{
 "cells": [
  {
   "cell_type": "markdown",
   "metadata": {},
   "source": [
    "# Function Functionality\n",
    "\n",
    "We've learned about functions already, that basically they are a block of code that you can pass an argument or arguments to (bust you don't have to) that will perform some kind of operation, and may or may not return a value.  Today we're going to look at a few more details about functions and how they work and operate in your code. \n",
    "\n",
    "In general, we like it when we're able to make use of functions that we don't have to write.  Sometimes just a brief review of available built-in functions can save you loads of work and make you a happy camper.  Here's a [list](https://docs.python.org/3/library/functions.html) of the built-in Python functions.\n",
    "\n",
    "There are a lot of times, though, that the built-ins and modules that you have available won't easily do what you want them to do, or you want to write something more customized to what you're working on.  These are the cases where you will write your own functions and so there are some really good things to keep in mind about functions that we're going to take a look at. Here are a couple of general references for functions:\n",
    "* [Tutorialspoint](https://www.tutorialspoint.com/python/python_functions.htm) (good information)\n",
    "* [Official Docs](https://docs.python.org/3/reference/compound_stmts.html#function) (probably not very helpful here)\n",
    "\n",
    "Topics covered:\n",
    "1. Variable Scope\n",
    "2. Passing arguments\n",
    "3. References\n",
    "4. Args and Kwargs\n",
    "5. Another use for decorators\n",
    "\n",
    "Below is a quick example function just to get us going (and maybe serve as a reminder of how to define and call a function)."
   ]
  },
  {
   "cell_type": "code",
   "execution_count": 1,
   "metadata": {},
   "outputs": [
    {
     "data": {
      "text/plain": [
       "'be happy'"
      ]
     },
     "execution_count": 1,
     "metadata": {},
     "output_type": "execute_result"
    }
   ],
   "source": [
    "#  the command def tells the interpreter that this code is a function definition\n",
    "\n",
    "def dont_worry():     # No inputs\n",
    "    \"\"\"We'll leave out most docstrings for this lesson, but it's a good idea to use them most of the time\"\"\"\n",
    "    return 'be happy' # One output\n",
    "\n",
    "dont_worry()          # Calling the function "
   ]
  },
  {
   "cell_type": "markdown",
   "metadata": {},
   "source": [
    "## <span style='color:darkgreen'> Variable Scope </span>\n",
    "\n",
    "Understanding hierarchy of the way scope works a little can save you from a few headaches.\n",
    "\n",
    "> **Scope** refers to the relationship between where a variable is defined and where it is available.\n",
    "\n",
    "A general rule to work through the scope hierarchy is the LEGB Rule.\n",
    "  * L, Local — variable within a function (defined using def or lambda)) and that was not declared global (more on this practice to come)\n",
    "  * E, Enclosing-function locals — variable defined in the local scope of any functions containing defenition from inner to outer (looks for \"closest\" definition)\n",
    "  * G, Global (module) — Names assigned at the top-level of a file, or by using a global statement in a definition\n",
    "  * B, Built-in (Python) — reserved words in the Python built-ins\n",
    " \n",
    " in general it is better to use variable names that are distinct to avoid this issue, but it is not uncommon to reuse variable names in different local environment definitions so understanding this hierarchy really can be helpful as you're sure to come across it even if you don't use variables."
   ]
  },
  {
   "cell_type": "code",
   "execution_count": 2,
   "metadata": {},
   "outputs": [
    {
     "name": "stdout",
     "output_type": "stream",
     "text": [
      "\n",
      " We're inside the scope_checking function now\n",
      "\n",
      " This 'x' is at the global level\n",
      "\n",
      " We're inside the scope_deeper function now\n",
      "\n",
      " This 'y' is at a higher enclosing level\n",
      "\n",
      " This 'y' is at the local level \n",
      "\n",
      " This 'x' is at the global level\n",
      "\n",
      " This 'y' is at a higher enclosing level\n",
      "\n",
      " This 'z' is at the global level but defined within a function\n"
     ]
    }
   ],
   "source": [
    "# global variables don't necessarily have to be passed to functions to be used'\n",
    "x = \"\\n This 'x' is at the global level\"\n",
    "\n",
    "def scope_checking():\n",
    "    print('\\n We\\'re inside the scope_checking function now')\n",
    "    print(x)                                                                   #  Gets the global 'x'\n",
    "    y = \"\\n This 'y' is at a higher enclosing level\"                              #  defines a var 'y'\n",
    "    def scope_deeper(y):                                                       # passing 'y' as var\n",
    "        print('\\n We\\'re inside the scope_deeper function now')\n",
    "        print(y)                                                               # sees the higher y\n",
    "        y = \"\\n This 'y' is at the local level \"                               # making a local definition for 'y'\n",
    "        print(y)                                                               # see the new definition of 'y'\n",
    "        print(x)                                                               # global 'x' is still available here\n",
    "    scope_deeper(y)                                                            # passing 'y' as a var\n",
    "    print(y)                                                                   # still sees the higher 'y'\n",
    "    global z\n",
    "    z = \"\\n This 'z' is at the global level but defined within a function\"     #  making a new global definition\n",
    "\n",
    "# Now we run it\n",
    "scope_checking()\n",
    "print(z)"
   ]
  },
  {
   "cell_type": "markdown",
   "metadata": {},
   "source": [
    "#### <span style='color:darkblue'> A Quick Note on References </span>\n",
    "When you pass an object to a function it does not pass all of the data for the object but instead passes a reference to the object. For example, if you make a list `my_list = [1, 2, 3, 4]`, and then pass it to some function, `my_function(my_list)`, it will not pass the actual contents of the list to the function but gives a reference that points to where `my_list` is currently living. This is important to remember in relation to scope as you can easily redefine the object and not update it as intended.\n",
    "See how this mistake can happen in this small example below."
   ]
  },
  {
   "cell_type": "code",
   "execution_count": 3,
   "metadata": {},
   "outputs": [
    {
     "name": "stdout",
     "output_type": "stream",
     "text": [
      "original  1234\n",
      "modified  1234567\n",
      "doubled   12345671234567\n",
      "unchanged 1234567\n"
     ]
    }
   ],
   "source": [
    "my_list = [str(i) for i in [1, 2, 3, 4]]\n",
    "def doubler(a_list):\n",
    "    print('original ', \"\".join(a_list))\n",
    "    a_list.extend([str(i) for i in [5, 6, 7]])\n",
    "    print('modified ', \"\".join(a_list))\n",
    "    a_list = a_list * 2\n",
    "    print('doubled  ', \"\".join(a_list))\n",
    "doubler(my_list)\n",
    "print('unchanged', \"\".join(my_list))"
   ]
  },
  {
   "cell_type": "markdown",
   "metadata": {},
   "source": [
    "## <span style='color:darkgreen'> Passing Arguments </span>\n",
    "\n",
    "Now that we've played with scope a little, it's time to get a little better idea about what's going on in passing arguments to functions. Basically there is one kind of argument, but it can be used in a number of different ways.\n",
    "* **Positional Arguments** rely on the order passed to interpret correctly, example 1 below\n",
    "* **Keyword Arguments** use names for arguments to pass them in any order, example 2 below\n",
    "* **Default Arguments** use initial values for arguments in case they are not used in the function call, example 3 below\n",
    "* **Args and Kwargs** In the next section\n",
    " \n",
    " p.s. the [graph](https://www.google.com/#q=x+plus+y+over+x+minus+y) from our example below is cool!"
   ]
  },
  {
   "cell_type": "code",
   "execution_count": 4,
   "metadata": {},
   "outputs": [
    {
     "name": "stdout",
     "output_type": "stream",
     "text": [
      "\n",
      " with normal arguments \n",
      " \n",
      "1 + 2\n",
      "________\n",
      "3 - 4\n",
      "\n",
      " with keyword arguments \n",
      " \n",
      "1 + 2\n",
      "________\n",
      "3 - 4\n",
      "\n",
      " with default arguments \n",
      " \n",
      "1 + 2\n",
      "_______\n",
      "3 - 4\n",
      "\n",
      " with default arguments and some arguments \n",
      " \n",
      "2 + 3\n",
      "_______\n",
      "4 - 4\n",
      "\n",
      " with default arguments and some keyword arguments \n",
      " \n",
      "3 + 2\n",
      "_______\n",
      "3 - 2\n"
     ]
    }
   ],
   "source": [
    "def a_fraction_writer(a, b, c, d):\n",
    "    numerator =  \"\\n\" + \"{0} + {1}\".format(str(a), str(b))\n",
    "    denominator = \"\\n\" + \"{0} - {1}\".format(str(c), str(d))\n",
    "    length_used = max(len(numerator), len(denominator))\n",
    "    bar = \"\\n\" + \"_\"*(length_used + 2)\n",
    "    return numerator + bar +  denominator\n",
    "\n",
    "print('\\n with normal arguments \\n',a_fraction_writer(1, 2, 3, 4))\n",
    "print('\\n with keyword arguments \\n', a_fraction_writer(d=4, c=3, a=1, b=2)) # these should look the same\n",
    "\n",
    "def a_fraction_writer(a=1, b=2,c=3, d=4):\n",
    "    numerator =  \"{0} + {1}\".format(str(a), str(b))\n",
    "    denominator = \"{0} - {1}\".format(str(c), str(d))\n",
    "    length_used = max(len(numerator), len(denominator))\n",
    "    bar = \"_\"*(length_used + 2)\n",
    "    return \"\\n\" + numerator + \"\\n\" + bar + \"\\n\" +  denominator\n",
    "\n",
    "print('\\n with default arguments \\n', a_fraction_writer())\n",
    "print('\\n with default arguments and some arguments \\n', a_fraction_writer(2, 3, 4))\n",
    "print('\\n with default arguments and some keyword arguments \\n', a_fraction_writer(d=2, a=3))"
   ]
  },
  {
   "cell_type": "markdown",
   "metadata": {},
   "source": [
    "## <span style='color:darkgreen'> Args and Kwargs </span>\n",
    "References: [Docs]() [Python Tips](https://pythontips.com/2013/08/04/args-and-kwargs-in-python-explained/)\n",
    "\n",
    "We've mentioned args and kwargs before and now seems like a really good time to refer to them.  Basically they are placeholders and the names themselves are only by convention, you can actually call them anything you want to (we'll see that too)"
   ]
  },
  {
   "cell_type": "code",
   "execution_count": 5,
   "metadata": {},
   "outputs": [
    {
     "name": "stdout",
     "output_type": "stream",
     "text": [
      "arg0 =  5\n",
      "arg1 =  6\n",
      "arg2 =  7\n",
      "arg3 =  8\n",
      "arg4 =  9\n",
      "arg5 =  0\n",
      "arg6 =  1\n",
      "{'gamma': 3, 'epsilon': 5, 'alpha': 1, 'beta': 2, 'delta': 4}\n",
      "the value from the function is  5\n"
     ]
    }
   ],
   "source": [
    "def master_function(a=1, b=2, *args, **kwargs):\n",
    "    for num,i in enumerate(args):\n",
    "        print(\"arg{0} = \".format(num), i)\n",
    "    print(kwargs)\n",
    "    return a + b\n",
    "\n",
    "amazing = master_function(3, 2, 5, 6, 7, 8, 9, 0, 1, alpha=1,\n",
    "                          beta=2, gamma=3, delta=4, epsilon=5)\n",
    "\n",
    "print('the value from the function is ', amazing)"
   ]
  },
  {
   "cell_type": "code",
   "execution_count": 6,
   "metadata": {},
   "outputs": [
    {
     "name": "stdout",
     "output_type": "stream",
     "text": [
      "arg0 =  5\n",
      "arg1 =  6\n",
      "arg2 =  7\n",
      "arg3 =  8\n",
      "arg4 =  9\n",
      "arg5 =  0\n",
      "arg6 =  1\n",
      "{'gamma': 3, 'epsilon': 5, 'alpha': 1, 'beta': 2, 'delta': 4}\n",
      "the value from the function is  5\n"
     ]
    }
   ],
   "source": [
    "def master_function(a=1, b=2, *apples, **bananas):\n",
    "    for num,i in enumerate(apples):\n",
    "        print(\"arg{0} = \".format(num), i)\n",
    "    print(bananas)\n",
    "    return a + b\n",
    "\n",
    "amazing = master_function(3, 2, 5, 6, 7, 8, 9, 0, 1, alpha=1,\n",
    "                          beta=2, gamma=3, delta=4, epsilon=5)\n",
    "\n",
    "print('the value from the function is ', amazing)"
   ]
  },
  {
   "cell_type": "markdown",
   "metadata": {},
   "source": [
    "## <span style='color:darkgreen'> Another Example of Decorator Use </span>\n",
    "\n",
    "Where we can across args and kwargs before was when we talked about decorators. Remember that decorators are just a fancy way of modifying a function, usually by passing it to another function that makes a wrapper around it. Now we can see that this just let us pass arguments without worrying as much about how many or what they are."
   ]
  },
  {
   "cell_type": "code",
   "execution_count": 7,
   "metadata": {},
   "outputs": [
    {
     "data": {
      "text/plain": [
       "15"
      ]
     },
     "execution_count": 7,
     "metadata": {},
     "output_type": "execute_result"
    }
   ],
   "source": [
    "def pointless_function_2(*args):\n",
    "    return sum(args)\n",
    "\n",
    "pointless_function_2(1, 2, 3, 4, 5)"
   ]
  },
  {
   "cell_type": "code",
   "execution_count": 8,
   "metadata": {
    "collapsed": true
   },
   "outputs": [],
   "source": [
    "def square_block(a_func):\n",
    "\n",
    "    def wrapper(*args):\n",
    "        print(\"The args received are \", args)\n",
    "        return sum([a_func(a+1, b) for a,b in enumerate(args)])\n",
    "    return wrapper\n",
    "\n",
    "@square_block\n",
    "def pointless_function_2(a, b):\n",
    "    return sum([a, b])\n"
   ]
  },
  {
   "cell_type": "code",
   "execution_count": 9,
   "metadata": {},
   "outputs": [
    {
     "name": "stdout",
     "output_type": "stream",
     "text": [
      "The args received are  (1, 2, 3, 4, 5)\n"
     ]
    },
    {
     "data": {
      "text/plain": [
       "30"
      ]
     },
     "execution_count": 9,
     "metadata": {},
     "output_type": "execute_result"
    }
   ],
   "source": [
    "pointless_function_2(1, 2, 3, 4, 5)"
   ]
  },
  {
   "cell_type": "markdown",
   "metadata": {},
   "source": [
    "So hopefully now you've learned a little something more about how functions work in Python.  Hopefully this helps you to fully comprehend the details of what exactly is going on whether you are looking in the documentation of a module, reading a coworkers programs, or tracking down a troublesome bug in your own code."
   ]
  }
 ],
 "metadata": {
  "kernelspec": {
   "display_name": "Python 3",
   "language": "python",
   "name": "python3"
  },
  "language_info": {
   "codemirror_mode": {
    "name": "ipython",
    "version": 3
   },
   "file_extension": ".py",
   "mimetype": "text/x-python",
   "name": "python",
   "nbconvert_exporter": "python",
   "pygments_lexer": "ipython3",
   "version": "3.5.2"
  }
 },
 "nbformat": 4,
 "nbformat_minor": 2
}
