{
 "cells": [
  {
   "cell_type": "markdown",
   "metadata": {},
   "source": [
    "# Basic Python Training\n",
    "\n",
    "## What is Python?\n",
    "\n",
    "Python is what's called a high level programming language. In a basic sense, it interprets and implements a set of instructions for a computer to run tasks on your behalf. It is one of the most popular programming languages among data scientists because of its flexibility and the large number of data science oriented packages that have been developed for it.\n",
    "\n",
    "### What is a programming language?\n",
    "\n",
    "A program is essentially just a special text file. When you write a Python program the computer runs your Python code through an *interpreter* program that runs the code using the C programming language.  This in turn is translated into assembly language, an then binary code to be run through the computer's processor. While this process seems unwieldy at first, the comparative brevity of Python code when compared to that in each of the other stages saves enormous amounts of time and difficulty on behalf of the programmer.\n",
    "\n",
    "### Why Python?\n",
    "Some reasons why we use Python:\n",
    "* **Free Open Source Software:** (FOSS) Python is freely available and widely used and developed all around the world.\n",
    "* **Versatile:** With [over 86,000](https://en.wikipedia.org/wiki/Python_Package_Index) packages available, Python is extremely versatile with packages available for a great number of tasks.\n",
    "* **Easy to learn:** Python is often touted for it's [beauty](https://www.python.org/dev/peps/pep-0020/) as a programming language and can be much easier on the eyes for beginning programmers.\n",
    "* **Communicability:**\n",
    "\n",
    "### Great packages to learn about\n",
    "For data science in particular, as you begin to get more experienced you might want to start reading about some of these commonly used packages:\n",
    "* Numpy (numerical computation and large data)\n",
    "* Pandas (statistical analysis and data manipulation)\n",
    "* Matplotlib (data plotting)\n",
    "* Scikit-learn (data manipulation and machine learning)\n",
    "* Sympy (symbolic calculation and mathematics)\n",
    "\n",
    "## How do we use Python?\n",
    "We use Python to do things with stuff. Let's begin our journey by seeing a bit about how Python looks in action.\n",
    "\n",
    "Don't forget to make human readable comments that are skipped by the Python interpreter, just use \"#\" and the interpreter will skip the rest of that line\n"
   ]
  },
  {
   "cell_type": "code",
   "execution_count": 1,
   "metadata": {},
   "outputs": [
    {
     "name": "stdout",
     "output_type": "stream",
     "text": [
      "[1, 1, 2, 3, 3, 4, 5, 5, 5, 6, 8, 9]\n"
     ]
    }
   ],
   "source": [
    "# The following list of numbers is an example of things that we can do stuff with\n",
    "numbers = [3, 1, 4, 1, 5, 9, 2, 6, 5, 3, 5, 8]\n",
    "\n",
    "# And now we can do stuff with it\n",
    "numbers.sort()\n",
    "\n",
    "# Then we can output the results\n",
    "print(numbers)"
   ]
  },
  {
   "cell_type": "markdown",
   "metadata": {},
   "source": [
    "So what did we do? We took a bunch of numbers and packed them into what we call a *list*.  Then we used a function that sorted the list before we output it to see. We stored this list of numbers as a *variable*, like a temporary storage space that we can get by its name instead of typing out the list each time.\n",
    "\n",
    "We can also do a lot of other operations. If we wanted to sum all of the values in the list, or print out each one on a new line we can do that too.  We'll use a couple new things in this example, the lines starting with `for` and `if`.  We'll talk about those after we see a little more detail about types in Python\n"
   ]
  },
  {
   "cell_type": "code",
   "execution_count": 2,
   "metadata": {},
   "outputs": [
    {
     "name": "stdout",
     "output_type": "stream",
     "text": [
      "52\n",
      "1\n",
      "1\n",
      "2\n",
      "3\n",
      "3\n",
      "4\n"
     ]
    }
   ],
   "source": [
    "print(sum(numbers))\n",
    "for each_number in numbers:\n",
    "    if each_number < 5:\n",
    "        print(each_number)"
   ]
  },
  {
   "cell_type": "markdown",
   "metadata": {},
   "source": [
    "Notice that we've used functions in two different ways.  We used one when we called `numbers.sort()` and we used one a different way when we called `print(numbers)`.  You may be wondering which is correct and how to know which to use.  That's an excellent question that we'll discuss it more later when we talk about objects and classes.  For know just know that some functions belong to the thing you call it on, and the other are a little more general. We'll use functions a lot using Python.  Soon we will also learn about writing your own user defined functions. \n",
    "\n",
    "# Getting into the nitty gritty\n",
    "## Variables and Types\n",
    "\n",
    "A variable is like parking spot for anything you want to store.  They are versatile and reusable and are essential to using a programming language.  There are also different types of things that we can put into variables. Some of these are very low level types in Python while others may come from packages you might use or may even build yourself. This will come later on. For now we'll focus on making great stuff contained in notebooks like this one. Let's look at a few types in Python and how to store them as variables."
   ]
  },
  {
   "cell_type": "code",
   "execution_count": 3,
   "metadata": {
    "collapsed": true
   },
   "outputs": [],
   "source": [
    "1                        # An integer\n",
    "True                     # A boolean\n",
    "1.1                      # A float\n",
    "\"words\"                  # A string\n",
    "'words'                  # Also a string\n",
    "[1, 1.1, 'words']        # A list\n",
    "(1, 1.1, 'words')        # A tuple\n",
    "y = 2                    # A variable containing and integer\n",
    "x = [1, 2, 4]            # A variable containing a list\n"
   ]
  },
  {
   "cell_type": "markdown",
   "metadata": {},
   "source": [
    "So we have several different types like integers, floats, strings, lists, and tuples, and we can store any of them as a variable. We'll come to see there are many more types and things to do with them. Notice that lists and tuples look and work very similarly at this level. We'll leave tuples to talk about later and mostly use lists for the time being.\n",
    "\n",
    "## Working with lists\n",
    "\n",
    "So a list is kind of like a box you can store things in, except when you put things in the box there's always an order to the things in there, like each item is in it's own numbered compartment in the box.  We can also put different kinds of things inside lists, even other lists! Python doesn't care what we put in a list, it will access them the same way. "
   ]
  },
  {
   "cell_type": "code",
   "execution_count": 4,
   "metadata": {},
   "outputs": [
    {
     "data": {
      "text/plain": [
       "[[1, 2], [3, 4], [5, 6]]"
      ]
     },
     "execution_count": 4,
     "metadata": {},
     "output_type": "execute_result"
    }
   ],
   "source": [
    "[1, 2, 3]                  # A list of integers\n",
    "['yabba', 'dabba', 'doo']  # A list of strings\n",
    "[[1, 2], [3, 4], [5, 6]]   # A list of lists"
   ]
  },
  {
   "cell_type": "markdown",
   "metadata": {},
   "source": [
    "In Python, lists are zero indexed which means the first item is item 0.  This means if we use the list `['a', 'b', 'c']`, then the item  in place 0 is 'a'. We can also get any other item similarly, like the letter 'c' in the list is in place 2.  We could also use negative numbers to get item where the last one is -1, next to last -2, etc.  Let's store this list as a variable and see how it would look to grab the first and last items."
   ]
  },
  {
   "cell_type": "code",
   "execution_count": 5,
   "metadata": {},
   "outputs": [
    {
     "name": "stdout",
     "output_type": "stream",
     "text": [
      "a\n",
      "c\n"
     ]
    }
   ],
   "source": [
    "a_var = ['a', 'b', 'c']\n",
    "print(a_var[0])\n",
    "print(a_var[-1])"
   ]
  },
  {
   "cell_type": "markdown",
   "metadata": {},
   "source": [
    "We can also look at subsets of a list. Instead of just putting a single number in the brackets after the list's name, we can put a range using a colon.  Look at this example with a longer list."
   ]
  },
  {
   "cell_type": "code",
   "execution_count": 6,
   "metadata": {},
   "outputs": [
    {
     "data": {
      "text/plain": [
       "['c', 'd']"
      ]
     },
     "execution_count": 6,
     "metadata": {},
     "output_type": "execute_result"
    }
   ],
   "source": [
    "long_list = ['a', 'b', 'c', 'd', 'e', 'f', 'g']\n",
    "long_list[2:4]"
   ]
  },
  {
   "cell_type": "code",
   "execution_count": 7,
   "metadata": {},
   "outputs": [
    {
     "data": {
      "text/plain": [
       "['a', 'a', 'b', 'b', 'c', 'c', 'd', 'e', 'f', 'g']"
      ]
     },
     "execution_count": 7,
     "metadata": {},
     "output_type": "execute_result"
    }
   ],
   "source": [
    "new_list = long_list + a_var  #  Can you guess what this does?\n",
    "new_list.sort()\n",
    "new_list"
   ]
  },
  {
   "cell_type": "code",
   "execution_count": 8,
   "metadata": {},
   "outputs": [
    {
     "data": {
      "text/plain": [
       "['a', 'a', 'h', 'b', 'c', 'c', 'd', 'e', 'f', 'g']"
      ]
     },
     "execution_count": 8,
     "metadata": {},
     "output_type": "execute_result"
    }
   ],
   "source": [
    "new_list[2] = 'h'\n",
    "new_list"
   ]
  },
  {
   "cell_type": "markdown",
   "metadata": {},
   "source": [
    "What did we just do? We saw another thing the + symbol does.  Most basic operators are redefined to do different things for different objects. We'll see some more of that when we talk about functions. There are lots of other things you can do with lists.  There will be a whole section about lists later after we work through learning some stuff about functions.\n",
    "\n",
    "## Booleans\n",
    "Booleans are just the idea of true and false for computers. The keywords in Python are `True` and `False`, which are equivalent to the values 1 and 0 respectively.  You can think of it like an on/off switch. Most places you can use True and False will also accept 1 and 0, but not always. They are going to be used in particular for if/else statements which are coming up.\n",
    "\n",
    "## Loops and Conditionals\n",
    "We have three things that will be quite useful in using Python, if/else blocks, for loops, and while loops.\n",
    "\n",
    "Often we will our code to do something different depending on whether some condition is (or several conditions are) true.  For this purpose we have if/else blocks. These can be a standalone `if` statement, an `if` statement paired with an `else` statement, or both paired with any number of `elif` statements. Let's see an example of each.  In the first it's only going to check whether the condition is true or not. In the second it will do the same, but if it isn't true then it will do whatever is in the else statement. The last will work similarly to the second, except it will check if any of the four conditions is true only until it finds a true condition.\n"
   ]
  },
  {
   "cell_type": "code",
   "execution_count": 9,
   "metadata": {},
   "outputs": [
    {
     "name": "stdout",
     "output_type": "stream",
     "text": [
      "3\n",
      "Not 4\n",
      "3\n"
     ]
    }
   ],
   "source": [
    "secret_number = 3\n",
    "\n",
    "if secret_number == 3:\n",
    "    print(3)\n",
    "\n",
    "if secret_number == 4:\n",
    "    print(4)\n",
    "else:\n",
    "    print('Not 4')\n",
    "\n",
    "if secret_number == 1:\n",
    "    print(1)\n",
    "elif secret_number == 2:\n",
    "    print(2)\n",
    "elif secret_number == 3:\n",
    "    print(3)\n",
    "elif secret_number == 4:\n",
    "    print(4)\n",
    "else:\n",
    "    print('Not 1, 2, or 3')\n"
   ]
  },
  {
   "cell_type": "markdown",
   "metadata": {},
   "source": [
    "The next thing we need to figure out is the while loop. This is similar to an if statement, except that as long as the condition in true it will continue to exececute the code within it. It actually runs like an if statement where part of the if is to start at the beginning again."
   ]
  },
  {
   "cell_type": "code",
   "execution_count": 10,
   "metadata": {},
   "outputs": [
    {
     "name": "stdout",
     "output_type": "stream",
     "text": [
      "0\n",
      "1\n",
      "2\n",
      "3\n",
      "4\n"
     ]
    }
   ],
   "source": [
    "my_var = 0\n",
    "while my_var < 5:\n",
    "    print(my_var)\n",
    "    my_var += 1"
   ]
  },
  {
   "cell_type": "markdown",
   "metadata": {},
   "source": [
    "Here we used the += operator (there's also -= and others). This *increments* the variable, i.e., it adds the value to the variable. This is a shortcut to have to write less, e.g.,  when `my_var` is 0, my_var +=1 is equivalent to my_var = my_var + 1.\n",
    "Take care that you don't put something in the condition that is always true or you will find yourself in an *infinite loop*.\n",
    "\n",
    "Last we need to see for loops. A for loop is like a while loop except it uses an *iterator*.  You can use *iterable* objects, like lists for example, or a generic iterator (actually a list created on the fly with specific length), depending on what you want to do."
   ]
  },
  {
   "cell_type": "code",
   "execution_count": 11,
   "metadata": {},
   "outputs": [
    {
     "name": "stdout",
     "output_type": "stream",
     "text": [
      "a\n",
      "b\n",
      "c\n",
      "0\n",
      "1\n",
      "2\n",
      "3\n",
      "4\n"
     ]
    }
   ],
   "source": [
    "for an_item in a_var:\n",
    "    print(an_item)\n",
    "\n",
    "    \n",
    "for an_item in range(5):\n",
    "    print(an_item)"
   ]
  },
  {
   "cell_type": "markdown",
   "metadata": {},
   "source": [
    "So we can print out or access the actual items of a list or somewhat more generically do something a specfic number of times. Just to show you that range(5) is making a list, we'll look at the type of the first item of each one and see that they are both integers before we move on to strings."
   ]
  },
  {
   "cell_type": "code",
   "execution_count": 12,
   "metadata": {},
   "outputs": [
    {
     "name": "stdout",
     "output_type": "stream",
     "text": [
      "<class 'int'>\n",
      "<class 'int'>\n"
     ]
    }
   ],
   "source": [
    "print(type(range(5)[0]))\n",
    "print(type([0, 1, 2, 3, 4][0]))"
   ]
  },
  {
   "cell_type": "markdown",
   "metadata": {},
   "source": [
    "\n",
    "## Strings\n",
    "\n",
    "Since the long list is full of short strings, we'll keep using it for the time being. First we'll use it to make one new string with a new function we haven't seen yet called join.  Then we'll see how we can access strings in a very similar way to how we accessed elements of lists. This is all we need to know about strings really for now."
   ]
  },
  {
   "cell_type": "code",
   "execution_count": 13,
   "metadata": {},
   "outputs": [
    {
     "name": "stdout",
     "output_type": "stream",
     "text": [
      "aahbccdefg\n",
      "a\n",
      "f\n",
      "aahbccdefgaahbccdefg\n"
     ]
    }
   ],
   "source": [
    "my_str = \"\".join(new_list)\n",
    "print(my_str)\n",
    "print(my_str[0])\n",
    "print(my_str[-2])\n",
    "print(my_str + my_str)"
   ]
  },
  {
   "cell_type": "code",
   "execution_count": 16,
   "metadata": {},
   "outputs": [
    {
     "ename": "TypeError",
     "evalue": "'str' object does not support item assignment",
     "output_type": "error",
     "traceback": [
      "\u001b[0;31m---------------------------------------------------------------------------\u001b[0m",
      "\u001b[0;31mTypeError\u001b[0m                                 Traceback (most recent call last)",
      "\u001b[0;32m<ipython-input-16-65563413997e>\u001b[0m in \u001b[0;36m<module>\u001b[0;34m()\u001b[0m\n\u001b[0;32m----> 1\u001b[0;31m \u001b[0mmy_str\u001b[0m\u001b[1;33m[\u001b[0m\u001b[1;36m2\u001b[0m\u001b[1;33m]\u001b[0m \u001b[1;33m=\u001b[0m \u001b[1;34m'h'\u001b[0m\u001b[1;33m\u001b[0m\u001b[0m\n\u001b[0m",
      "\u001b[0;31mTypeError\u001b[0m: 'str' object does not support item assignment"
     ]
    }
   ],
   "source": [
    "my_str[2] = 'h'"
   ]
  },
  {
   "cell_type": "markdown",
   "metadata": {},
   "source": [
    "What happened with the last part?  This is called a *traceback* in Python. As you get more experienced reading these will become very insightful in pointing out where errors are occurring. The particular problem here is that unlike lists, strings are an *immutable* object, basically meaning you can't change them. The basic types, like integers, are also immutable, naturally, as are tuples, which is one of its primary differences with lists.\n",
    "\n",
    "## Functions\n",
    "\n",
    "\n",
    "Functions are a nearly indispensible part of Python programming. You can think of a function as a set of instructions for a computer to run.  Usually a function will have an input (or many inputs) and an output (or many outputs).  \n",
    "\n",
    "Let's see an example of a function. The function we're going to make will be called `my_function`.  In order to make it we have to use the built-in command `def` which tells the Python interpreter we want to define our own function. So we'll use `def`, and the name we want to call our function, then what?  We'll usually want to give an input so we'll give our function an input so we'll say it takes an input called `a_variable`.  Inside the function we'll make a new variable, that we might as well call `new_variable` that uses the input variable to be created. Then we'll output the new_variable using `return`. So if we use our function, when we pass it an input it will give us an output. This is how you typically use a function. We'll also see how this simple function acts in different ways depending on the type of input. This is because of the different definitions of what * does for the different types like we saw earlier with the + symbol. If you pass something for which the operation isn't defined then it will give you a traceback message like we saw above too."
   ]
  },
  {
   "cell_type": "code",
   "execution_count": 17,
   "metadata": {
    "collapsed": true
   },
   "outputs": [],
   "source": [
    "def my_function(a_variable):\n",
    "    new_variable = a_variable * 50\n",
    "    return new_variable"
   ]
  },
  {
   "cell_type": "code",
   "execution_count": 18,
   "metadata": {},
   "outputs": [
    {
     "data": {
      "text/plain": [
       "100"
      ]
     },
     "execution_count": 18,
     "metadata": {},
     "output_type": "execute_result"
    }
   ],
   "source": [
    "my_function(2)  #  Multiplys any number you give it by 50"
   ]
  },
  {
   "cell_type": "code",
   "execution_count": 19,
   "metadata": {},
   "outputs": [
    {
     "data": {
      "text/plain": [
       "'super super super super super super super super super super super super super super super super super super super super super super super super super super super super super super super super super super super super super super super super super super super super super super super super super super '"
      ]
     },
     "execution_count": 19,
     "metadata": {},
     "output_type": "execute_result"
    }
   ],
   "source": [
    "my_function('super ')  #  This will give you one string with 50 copies of the original string inside it"
   ]
  },
  {
   "cell_type": "code",
   "execution_count": 20,
   "metadata": {},
   "outputs": [
    {
     "name": "stdout",
     "output_type": "stream",
     "text": [
      "[1, 2, 3, 1, 2, 3, 1, 2, 3, 1, 2, 3, 1, 2, 3, 1, 2, 3, 1, 2, 3, 1, 2, 3, 1, 2, 3, 1, 2, 3, 1, 2, 3, 1, 2, 3, 1, 2, 3, 1, 2, 3, 1, 2, 3, 1, 2, 3, 1, 2, 3, 1, 2, 3, 1, 2, 3, 1, 2, 3, 1, 2, 3, 1, 2, 3, 1, 2, 3, 1, 2, 3, 1, 2, 3, 1, 2, 3, 1, 2, 3, 1, 2, 3, 1, 2, 3, 1, 2, 3, 1, 2, 3, 1, 2, 3, 1, 2, 3, 1, 2, 3, 1, 2, 3, 1, 2, 3, 1, 2, 3, 1, 2, 3, 1, 2, 3, 1, 2, 3, 1, 2, 3, 1, 2, 3, 1, 2, 3, 1, 2, 3, 1, 2, 3, 1, 2, 3, 1, 2, 3, 1, 2, 3, 1, 2, 3, 1, 2, 3]\n"
     ]
    }
   ],
   "source": [
    "print(my_function(([1, 2, 3])))  #  This one will give you 50 copies of our list"
   ]
  },
  {
   "cell_type": "code",
   "execution_count": 21,
   "metadata": {},
   "outputs": [
    {
     "name": "stdout",
     "output_type": "stream",
     "text": [
      "(1, 2, 3, 1, 2, 3, 1, 2, 3, 1, 2, 3, 1, 2, 3, 1, 2, 3, 1, 2, 3, 1, 2, 3, 1, 2, 3, 1, 2, 3, 1, 2, 3, 1, 2, 3, 1, 2, 3, 1, 2, 3, 1, 2, 3, 1, 2, 3, 1, 2, 3, 1, 2, 3, 1, 2, 3, 1, 2, 3, 1, 2, 3, 1, 2, 3, 1, 2, 3, 1, 2, 3, 1, 2, 3, 1, 2, 3, 1, 2, 3, 1, 2, 3, 1, 2, 3, 1, 2, 3, 1, 2, 3, 1, 2, 3, 1, 2, 3, 1, 2, 3, 1, 2, 3, 1, 2, 3, 1, 2, 3, 1, 2, 3, 1, 2, 3, 1, 2, 3, 1, 2, 3, 1, 2, 3, 1, 2, 3, 1, 2, 3, 1, 2, 3, 1, 2, 3, 1, 2, 3, 1, 2, 3, 1, 2, 3, 1, 2, 3)\n"
     ]
    }
   ],
   "source": [
    "print(my_function((1, 2, 3)))  # Again 50 times, notice in all 3 of these it joined them all together"
   ]
  },
  {
   "cell_type": "code",
   "execution_count": 22,
   "metadata": {},
   "outputs": [
    {
     "data": {
      "text/plain": [
       "5000"
      ]
     },
     "execution_count": 22,
     "metadata": {},
     "output_type": "execute_result"
    }
   ],
   "source": [
    "my_function(my_function(2))  # Calling the function on the result of passing the function a 2"
   ]
  },
  {
   "cell_type": "code",
   "execution_count": 23,
   "metadata": {},
   "outputs": [
    {
     "ename": "TypeError",
     "evalue": "unsupported operand type(s) for *: 'NoneType' and 'int'",
     "output_type": "error",
     "traceback": [
      "\u001b[0;31m---------------------------------------------------------------------------\u001b[0m",
      "\u001b[0;31mTypeError\u001b[0m                                 Traceback (most recent call last)",
      "\u001b[0;32m<ipython-input-23-a078b17b1ce2>\u001b[0m in \u001b[0;36m<module>\u001b[0;34m()\u001b[0m\n\u001b[0;32m----> 1\u001b[0;31m \u001b[0mmy_function\u001b[0m\u001b[1;33m(\u001b[0m\u001b[1;32mNone\u001b[0m\u001b[1;33m)\u001b[0m\u001b[1;33m\u001b[0m\u001b[0m\n\u001b[0m",
      "\u001b[0;32m<ipython-input-17-dead4594e45e>\u001b[0m in \u001b[0;36mmy_function\u001b[0;34m(a_variable)\u001b[0m\n\u001b[1;32m      1\u001b[0m \u001b[1;32mdef\u001b[0m \u001b[0mmy_function\u001b[0m\u001b[1;33m(\u001b[0m\u001b[0ma_variable\u001b[0m\u001b[1;33m)\u001b[0m\u001b[1;33m:\u001b[0m\u001b[1;33m\u001b[0m\u001b[0m\n\u001b[0;32m----> 2\u001b[0;31m     \u001b[0mnew_variable\u001b[0m \u001b[1;33m=\u001b[0m \u001b[0ma_variable\u001b[0m \u001b[1;33m*\u001b[0m \u001b[1;36m50\u001b[0m\u001b[1;33m\u001b[0m\u001b[0m\n\u001b[0m\u001b[1;32m      3\u001b[0m     \u001b[1;32mreturn\u001b[0m \u001b[0mnew_variable\u001b[0m\u001b[1;33m\u001b[0m\u001b[0m\n",
      "\u001b[0;31mTypeError\u001b[0m: unsupported operand type(s) for *: 'NoneType' and 'int'"
     ]
    }
   ],
   "source": [
    "my_function(None)"
   ]
  },
  {
   "cell_type": "markdown",
   "metadata": {},
   "source": [
    "So for numbers the result is what we expect, it will just multiply the number by 50, for strings, lists, and tuples it will instead append together 50 copies of its contents.  You can call a function on itself  like `my_function(my_function(2))` as it is just passing information through it, modifying it along the way. Lastly we saw that on the `None` type, which is basically a null value, that the operation is not defined so it did give us a traceback.  The will be an extra section about tracebacks if you'd like to learn more about them."
   ]
  },
  {
   "cell_type": "markdown",
   "metadata": {},
   "source": [
    "## More Lists\n",
    "\n",
    "Let's take another look at lists.  There are a number or things we can do with lists that we've seen already. We can select or reassign specific values or ranges of values, for example. Now that we know how to use functions a little and loops and conditionals, we can get into some more complex ideas with using lists. We can do `comprehensions` with lists. This just means that we can use some shorthand logic when creating lists. "
   ]
  },
  {
   "cell_type": "code",
   "execution_count": 24,
   "metadata": {},
   "outputs": [
    {
     "name": "stdout",
     "output_type": "stream",
     "text": [
      "['a', 'b', 'c', 'd', 'e', 'f', 'g']\n"
     ]
    },
    {
     "data": {
      "text/plain": [
       "['a']"
      ]
     },
     "execution_count": 24,
     "metadata": {},
     "output_type": "execute_result"
    }
   ],
   "source": [
    "print(long_list)\n",
    "new_example = [x for x in long_list if x == 'a']\n",
    "new_example"
   ]
  },
  {
   "cell_type": "code",
   "execution_count": 25,
   "metadata": {
    "collapsed": true
   },
   "outputs": [],
   "source": [
    "fire = \"suprajacobean\"\n",
    "mine = iter(fire)"
   ]
  },
  {
   "cell_type": "code",
   "execution_count": 26,
   "metadata": {},
   "outputs": [
    {
     "name": "stdout",
     "output_type": "stream",
     "text": [
      "s\n",
      "u\n",
      "p\n",
      "r\n",
      "a\n"
     ]
    }
   ],
   "source": [
    "for i in range(5):\n",
    "    print(next(mine))"
   ]
  },
  {
   "cell_type": "code",
   "execution_count": null,
   "metadata": {
    "collapsed": true
   },
   "outputs": [],
   "source": []
  },
  {
   "cell_type": "code",
   "execution_count": null,
   "metadata": {
    "collapsed": true
   },
   "outputs": [],
   "source": []
  },
  {
   "cell_type": "code",
   "execution_count": null,
   "metadata": {
    "collapsed": true
   },
   "outputs": [],
   "source": []
  },
  {
   "cell_type": "code",
   "execution_count": null,
   "metadata": {
    "collapsed": true
   },
   "outputs": [],
   "source": []
  },
  {
   "cell_type": "code",
   "execution_count": null,
   "metadata": {
    "collapsed": true
   },
   "outputs": [],
   "source": []
  },
  {
   "cell_type": "code",
   "execution_count": null,
   "metadata": {
    "collapsed": true
   },
   "outputs": [],
   "source": []
  },
  {
   "cell_type": "code",
   "execution_count": null,
   "metadata": {
    "collapsed": true
   },
   "outputs": [],
   "source": []
  },
  {
   "cell_type": "code",
   "execution_count": null,
   "metadata": {
    "collapsed": true
   },
   "outputs": [],
   "source": []
  },
  {
   "cell_type": "code",
   "execution_count": null,
   "metadata": {
    "collapsed": true
   },
   "outputs": [],
   "source": []
  },
  {
   "cell_type": "code",
   "execution_count": null,
   "metadata": {
    "collapsed": true
   },
   "outputs": [],
   "source": []
  },
  {
   "cell_type": "code",
   "execution_count": null,
   "metadata": {
    "collapsed": true
   },
   "outputs": [],
   "source": []
  },
  {
   "cell_type": "code",
   "execution_count": null,
   "metadata": {
    "collapsed": true
   },
   "outputs": [],
   "source": []
  }
 ],
 "metadata": {
  "kernelspec": {
   "display_name": "Python 3",
   "language": "python",
   "name": "python3"
  },
  "language_info": {
   "codemirror_mode": {
    "name": "ipython",
    "version": 3
   },
   "file_extension": ".py",
   "mimetype": "text/x-python",
   "name": "python",
   "nbconvert_exporter": "python",
   "pygments_lexer": "ipython3",
   "version": "3.6.0"
  }
 },
 "nbformat": 4,
 "nbformat_minor": 2
}
