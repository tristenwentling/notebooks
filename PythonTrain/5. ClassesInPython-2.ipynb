{
 "cells": [
  {
   "cell_type": "markdown",
   "metadata": {},
   "source": [
    "# Python Training:\n",
    "## <span style=\"color:darkblue\">A Short Guide to Using Classes in Python: continued</span>\n",
    "#### <span style=\"color:light gray\">Tristen Wentling</span>\n",
    "\n",
    "This notebook is a continuation intended to privide more examples of using classes in Python. It follows the notebooks *A Brief Introduction to Classes and Object Oriented Programming in Python* and *A Short Guide to Using Classes in Python*. For further and more detailed information on classes and object oriented programming refer to [Learn Python the Hard Way](https://learnpythonthehardway.org/book/ex41.html), [Think Python 2e](http://greenteapress.com/thinkpython2/html/thinkpython2016.html) (full pdf available), [the official documentation](https://docs.python.org/3/tutorial/classes.html), or [Tutorialspoint](https://www.tutorialspoint.com/python/python_classes_objects.htm).\n",
    "\n",
    "Topics included are:\n",
    "* Using classes as modules\n",
    "* Basics of multiprocessing and multithreading        "
   ]
  },
  {
   "cell_type": "markdown",
   "metadata": {},
   "source": [
    "# Using classes as modules\n",
    "\n",
    "## <span style=\"color:green\">Using modules to clean up your work</span>\n",
    "In part one we walked through the process of building a model to design a class and built up each of its components until ultimately we had a nice grocery store class that had a lot of built in functionality. We Made classes for products, employees, and the grocery store itself, having decided that facilities information could be left as attributes of the grocery store class.\n",
    "\n",
    "| |**<center>  Grocery Store </center> **| |\n",
    "|---------------|------------------------------|---------------------|\n",
    "|  Products  |   <center> Employees </center> |   Facilities  |\n",
    "\n",
    "As part of that process we also built up some subclasses for the Products class to provide different features for some different product types: produce, dry goods and dairy items.\n",
    "\n",
    "|         |**Products**|          |\n",
    "|:-------:|:----------:|:--------:|\n",
    "|Produce  |Dairy       |Dry Goods |   \n",
    "\n",
    "There are some benefits to using a notebook as we develop a class. For instance, it might be nice to have all of the parts laid out where we can see them and modify them as you fine tune your class methods and tweak how different components work together  as you build it up. Eventually, however, once you have finished building in all of the functionality you're looking for, it becomes much neater to make use of this portability aspect that often comes up.\n",
    "\n",
    "One of the best reasons to spend the time and effort to build classes and write functions is for modularity.  We want to build things that we will be able to use more than once a lot of the time, and so instead of leaving all of this work in a notebook we can extract our efforts and write them into a module that we can import into new programs.  \n",
    "\n",
    "We do this by saving the information as a python script which we can then import everything we need from, leaving out all of the details and leaving us functionality like we are used to with other python classes and modules, like lists or pandas dataframes.\n",
    "\n",
    "This is also a good reason to include docstrings with your definitions so that after importing you can make reference to this information.\n",
    "\n",
    "Let's look at how we can use our GroceryStore class as an imported module.\n",
    "\n",
    "### <span style=\"color:green\">The grocery module</span>\n",
    "Take all of the class definitions and save them into a python script file, ***grocery.py***. Then while working in the same directory, you can import grocery just like you would any other module."
   ]
  },
  {
   "cell_type": "code",
   "execution_count": null,
   "metadata": {
    "collapsed": true
   },
   "outputs": [],
   "source": [
    "from grocery import GroceryStore"
   ]
  },
  {
   "cell_type": "code",
   "execution_count": null,
   "metadata": {
    "collapsed": true
   },
   "outputs": [],
   "source": [
    "Publix = GroceryStore()\n",
    "\n",
    "# Mock csv data\n",
    "hired_employees = [[3,  'Jessyca'],\n",
    "                   [4,  'Melissa'],\n",
    "                   [5,  'Michelle'],\n",
    "                   [6,  'Beverly'],\n",
    "                   [7,  'Constance'],\n",
    "                   [8,  'Jerry'],\n",
    "                   [9,  'Garry'],\n",
    "                   [10, 'Terry']]\n",
    "\n",
    "shipping_manifest = [['dairy', 'cheese', 3, 1.99, 63],\n",
    "                     ['dairy', 'cream', 4, 3.19, 29],\n",
    "                     ['dairy', 'butter', 5, 5.14, 74],\n",
    "                     ['dry goods', 'cereal', 6, 2.96, 515],\n",
    "                     ['dry goods', 'flour', 7, 1.59, 95],\n",
    "                     ['produce', 'celery', 8, 1.79, 54],\n",
    "                     ['produce', 'carrots', 9, 2.46, 112],\n",
    "                     ['produce', 'mangoes', 10, 1.82, 42]]\n",
    "\n",
    "#  Adding records to the Publix store like we did before\n",
    "for i in range(len(hired_employees) ):\n",
    "    a, b = hired_employees[i][:]\n",
    "    Publix.add_employee(hired_employees[i][0], hired_employees[i][1])\n",
    "    c, d, e, f, g = shipping_manifest[i][:]\n",
    "    Publix.add_inventory(c, d, e, f, g)"
   ]
  },
  {
   "cell_type": "code",
   "execution_count": null,
   "metadata": {},
   "outputs": [],
   "source": [
    "Publix.get_employee_names()"
   ]
  },
  {
   "cell_type": "code",
   "execution_count": null,
   "metadata": {},
   "outputs": [],
   "source": [
    "Publix.get_inventory()"
   ]
  },
  {
   "cell_type": "markdown",
   "metadata": {},
   "source": [
    "So by wrapping it all together as a module we get all of the functionality we built into our class, but we can now build the Publix store, with data, with just a couple lines of code.\n",
    "\n",
    "Next we're going to talk briefly about multiprocessing and multithreading and show how classes are often used to take advantage of the the utility of multithreading processes.\n",
    "\n",
    "# Multiprocessing and Multithreading\n",
    "\n",
    "## <span style=\"color:green\">Multiprocessing</span>\n",
    "\n",
    "Python does have one significant drawback, called gloabl interpreter lock (GIL).  This is a well documented issue ( if you want to know more about it just google \"python GIL\" ) that basically means there is a performance limitation on the Python interpreter that processes your code.  While some libraries, like numpy, have found a way to sidestep this issue, it is generally not a trivial task to do on your own.  When you have large amounts of datasets or processes to run, this limitation can slow you down but there are ways you can make your code more efficient.\n",
    "\n",
    "The difference between the two terms multiprocessing and multithreading is not immediately evident, but the distinction is important to consider as the two have different purposes.  Multiprocessing is used when you want to parallelize some type of functionality, particularly things like reading and writing to or from several large files.  These operations are not slowed down so much by the interpreter lock as they are reading and writing speeds.  \n",
    "\n",
    "The good news is there is a multiprocessing library ([see the docs](https://docs.python.org/3/library/concurrent.futures.html)) that can be leveraged to make this faster. Though this is not our focus, we can look briefly how it might be used. One particularly helpful application of this is creating and processing several numpy arrays or pandas dataframes. It may vary depending on the particular tasks, but often you can gain significant improvements in performance.\n",
    "\n",
    "First we'll create some fake files to process and some function we want to run on each fake file."
   ]
  },
  {
   "cell_type": "code",
   "execution_count": null,
   "metadata": {
    "collapsed": true
   },
   "outputs": [],
   "source": [
    "# Create some fake files\n",
    "set_a = ['x', 1, 2, 3, 'a', 'b', 'c', '1s2']\n",
    "set_b = ['a', 'tt','pl', '1', 17, 23, 'k', 'l']\n",
    "set_c = [9, '9', '1', 1, '3', 3, 5, '7']\n",
    "\n",
    "# Write a function that you want to execute on each list\n",
    "def tester(a_list):\n",
    "    results = list()\n",
    "    for item in a_list:\n",
    "        try:\n",
    "            results.append(item.isalpha())\n",
    "        except:\n",
    "            if type(item) == str:\n",
    "                raise\n",
    "            else:\n",
    "                results.append(False)\n",
    "    return results\n",
    "r = 1\n",
    "#r = 10\n",
    "#r = 100\n",
    "#r = 1000\n",
    "#r = 10000\n",
    "#r = 100000\n",
    "#r = 1000000\n",
    "\n",
    "#  Modification for second test\n",
    "set_a = set_a * r\n",
    "set_b = set_b * r\n",
    "set_c = set_c * r\n",
    "\n",
    "# Store the fake files together\n",
    "filenames = [set_a, set_b, set_c]"
   ]
  },
  {
   "cell_type": "code",
   "execution_count": null,
   "metadata": {
    "collapsed": true
   },
   "outputs": [],
   "source": [
    "# import the multiprocessing tool\n",
    "import concurrent.futures as fut"
   ]
  },
  {
   "cell_type": "markdown",
   "metadata": {},
   "source": [
    "Now we'll test processing the tester function by iterating through the list and then using the timeit cell magic we'll time each method.\n",
    "\n",
    "(note: 1 s = 1000 ms = 1,000,000 µs)"
   ]
  },
  {
   "cell_type": "code",
   "execution_count": null,
   "metadata": {},
   "outputs": [],
   "source": [
    "%%timeit\n",
    "beginner = list()\n",
    "for i in filenames:\n",
    "    beginner.append(tester(i))"
   ]
  },
  {
   "cell_type": "code",
   "execution_count": null,
   "metadata": {},
   "outputs": [],
   "source": [
    "%%timeit\n",
    "with fut.ProcessPoolExecutor() as executor:\n",
    "    intermediary = executor.map(tester, filenames)"
   ]
  },
  {
   "cell_type": "markdown",
   "metadata": {},
   "source": [
    "What happened?  Didn't I just tell you multiprocessing would be faster?  It has to do with the size and overhead of each method. It takes a little more to start up the multiprocessing than the built in iterators. Try uncommenting the modifications above and rerun it. You should see that the iteration method grows at a faster rate than the pool method even though initially it runs faster for smaller data.  These differences become more pronounced with actual file input and output operations.\n",
    "\n",
    "<a href=\"https://drive.google.com/a/nielsen.com/file/d/0B0jAkOUhQ4j6cVRENmZhUk5CS2M/view?usp=sharing\"> Graph </a>\n",
    "![Comparison Plot](IterVsPlot.png)\n",
    "[//]: # (![Comparison Plot](IterVsPlot.png))"
   ]
  },
  {
   "cell_type": "markdown",
   "metadata": {},
   "source": [
    "## <span style=\"color:green\">Multithreading</span>\n",
    "\n",
    "Now for our real purpose, we want to look at multithreading.  Multithreading is a way to split up processes into **threads**. These threads can be run in order, can wait for a trigger event to execute, or switch back and forth from one thread to another, as well as having a lot of other features. At a basic level, we can explore minimally how we actually use classes to create new threads and use their methods to work together.\n",
    "A great deal of information is available to learn more about multithreading with Python, a few good references are:\n",
    "* [The official documentation](https://docs.python.org/3/library/threading.html)\n",
    "* [Tutorialspoint](https://docs.python.org/3/library/threading.html)\n",
    "* [Python Module of the Week](https://pymotw.com/3/threading/)\n",
    "\n",
    "For our first step we'll import the library and use it to define a new class. We'll call the parent class's initializer and set some attributes as well as create a quick function that each thread will run"
   ]
  },
  {
   "cell_type": "code",
   "execution_count": null,
   "metadata": {
    "collapsed": true
   },
   "outputs": [],
   "source": [
    "from threading import Thread\n",
    "import time\n",
    "\n",
    "exitFlag = 0\n",
    "\n",
    "class myThread(Thread):\n",
    "    \"\"\"We want to create some basic threads to do some basic stuff \"\"\"\n",
    "\n",
    "    def __init__(self, ID, counter = 5, delay = 5):\n",
    "        \"\"\"How we're initializing our threads\"\"\"\n",
    "        super(myThread, self).__init__()\n",
    "        self.threadID = ID\n",
    "        self.name = \"Thread \" + str(ID)\n",
    "        self.counter = counter\n",
    "        self.delay = delay\n",
    "\n",
    "    def run(self):\n",
    "        \"\"\"What we want each thread to do when it runs\"\"\"\n",
    "        self.print_time()\n",
    "\n",
    "    def print_time(self):\n",
    "        \"\"\"Tells thread how long to sleep and prints a timestamp for when it ran\"\"\"\n",
    "        while self.counter:\n",
    "            if exitFlag:\n",
    "                self.exit()\n",
    "            time.sleep(self.delay)\n",
    "            print(self.name + \" ran at \" + str(time.ctime(time.time())) + \"\\n\")\n",
    "            self.counter -= 1"
   ]
  },
  {
   "cell_type": "markdown",
   "metadata": {},
   "source": [
    "Now we'll create some threads from our extension of the class definition and run them."
   ]
  },
  {
   "cell_type": "code",
   "execution_count": null,
   "metadata": {},
   "outputs": [],
   "source": [
    "# Create new threads\n",
    "thread1 = myThread(ID=1, delay=5)\n",
    "thread2 = myThread(ID=2, delay=2)\n",
    "thread3 = myThread(ID=3, delay=3)\n",
    "# Start new Threads\n",
    "thread1.start()\n",
    "thread2.start()\n",
    "thread3.start()"
   ]
  },
  {
   "cell_type": "markdown",
   "metadata": {},
   "source": [
    "So it looks like we have successfully created some threads using our extension of the original Thread definition.  Using these threads can be especially helpful if you want some processes to wait on some other process, like having one thread update a file before the other pulls the data from the file. \n",
    "\n",
    "As far as parallelization goes, threading still can suffer from the GIL problem, but there are also other newer libraries that can bypass this problem to a greater extent. The multiprocessing library we used the Pool function from earlier has something similar for processes as well, for more info see [this blog post](http://chriskiehl.com/article/parallelism-in-one-line/).\n",
    "\n",
    "In all there a great deal of tools available to us, and while classes may seem rather involved "
   ]
  }
 ],
 "metadata": {
  "kernelspec": {
   "display_name": "Python 3",
   "language": "python",
   "name": "python3"
  },
  "language_info": {
   "codemirror_mode": {
    "name": "ipython",
    "version": 3
   },
   "file_extension": ".py",
   "mimetype": "text/x-python",
   "name": "python",
   "nbconvert_exporter": "python",
   "pygments_lexer": "ipython3",
   "version": "3.5.2"
  }
 },
 "nbformat": 4,
 "nbformat_minor": 2
}
